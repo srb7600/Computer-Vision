{
  "nbformat": 4,
  "nbformat_minor": 0,
  "metadata": {
    "colab": {
      "name": "CA3_Practical_Assessment_L00157097.ipynb",
      "provenance": [],
      "collapsed_sections": [],
      "authorship_tag": "ABX9TyN+DmrahzfMjykJxrO8+kAn",
      "include_colab_link": true
    },
    "kernelspec": {
      "display_name": "Python 3",
      "name": "python3"
    },
    "language_info": {
      "name": "python"
    }
  },
  "cells": [
    {
      "cell_type": "markdown",
      "metadata": {
        "id": "view-in-github",
        "colab_type": "text"
      },
      "source": [
        "<a href=\"https://colab.research.google.com/github/srb7600/Computer-Vision/blob/main/CA3_Practical_Assessment_L00157097.ipynb\" target=\"_parent\"><img src=\"https://colab.research.google.com/assets/colab-badge.svg\" alt=\"Open In Colab\"/></a>"
      ]
    },
    {
      "cell_type": "markdown",
      "metadata": {
        "id": "TbaHvs7BYtlV"
      },
      "source": [
        "# **CA3 PRACTICAL ASSESSMENT**\n",
        "## **Name:** Kumar Saurabh\n",
        "## **Course:** MSc in Big Data Analytics and Artificial Intelligence\n",
        "## **Institute:** Letterkenny Institute of Technology\n",
        "## **Student ID:** L00157097\n",
        "## **Student Email:** l00157097@student.lyit.ie\n",
        "## **Professor:** Dr. Kevin Meehan\n",
        "\n"
      ]
    },
    {
      "cell_type": "markdown",
      "metadata": {
        "id": "o48nbOoHrcW-"
      },
      "source": [
        "###**COMPLETED THE PRACTICAL ASSESSMENT IN GOOGLE COLAB AS WAS FACING SOME ISSUES WHILE IMPORTING LIBRARIES IN JUPYTER NOTEBOOK**"
      ]
    },
    {
      "cell_type": "markdown",
      "metadata": {
        "id": "oMA_D3FgeYxf"
      },
      "source": [
        "###**--> Apart from using code which has been taught in the lectures, I have taken some help from useful online websites such as [OpenCV](https://opencv.org), [Real Python](https://realpython.com) and [Medium](https://medium.com).**"
      ]
    },
    {
      "cell_type": "markdown",
      "metadata": {
        "id": "ZJnTYF5RZGvs"
      },
      "source": [
        "###**I have saved all the files for this code in a folder naming CA3 Images.**\n",
        "###**Anyone who is running this code just need to extract the zip file and save the CA3 Images folder in My Drive of his Google Drive.**\n",
        "###**Further he only need to change the number in every code block to compare the text extracted from an image file with the text file associated with that image file**"
      ]
    },
    {
      "cell_type": "markdown",
      "metadata": {
        "id": "Tkz0oQkkXeU0"
      },
      "source": [
        "###**The first step would be to import the required libraries. We will import few libraries later when required in different code blocks.**"
      ]
    },
    {
      "cell_type": "code",
      "metadata": {
        "colab": {
          "base_uri": "https://localhost:8080/"
        },
        "id": "oYzXvjJSpstT",
        "outputId": "7801ad8d-747d-45dc-a6f9-a2b089864618"
      },
      "source": [
        "#Import required libraries\n",
        "!pip install pytesseract\n",
        "!pip install tesseract\n",
        "!pip install pdf2image\n",
        "!apt-get install poppler-utils\n",
        "!apt install tesseract-ocr\n",
        "!apt install libtesseract-dev\n",
        "!sudo apt install tesseract-ocr\n",
        "!pip install Pillow\n",
        "from PIL import Image\n",
        "import pytesseract\n",
        "from pdf2image import convert_from_path\n",
        "from google.colab.patches import cv2_imshow\n",
        "import cv2\n",
        "import sys\n",
        "import os \n",
        "import numpy as np"
      ],
      "execution_count": 2,
      "outputs": [
        {
          "output_type": "stream",
          "text": [
            "Collecting pytesseract\n",
            "  Downloading https://files.pythonhosted.org/packages/a0/e6/a4e9fc8a93c1318540e8de6d8d4beb5749b7960388a7c7f27799fc2dd016/pytesseract-0.3.7.tar.gz\n",
            "Requirement already satisfied: Pillow in /usr/local/lib/python3.7/dist-packages (from pytesseract) (7.1.2)\n",
            "Building wheels for collected packages: pytesseract\n",
            "  Building wheel for pytesseract (setup.py) ... \u001b[?25l\u001b[?25hdone\n",
            "  Created wheel for pytesseract: filename=pytesseract-0.3.7-py2.py3-none-any.whl size=13945 sha256=b687071c98adcb4a37b8a533b909772b169d523bf0549d8faf223113c1f4facc\n",
            "  Stored in directory: /root/.cache/pip/wheels/81/20/7e/1dd0daad1575d5260916bb1e9781246430647adaef4b3ca3b3\n",
            "Successfully built pytesseract\n",
            "Installing collected packages: pytesseract\n",
            "Successfully installed pytesseract-0.3.7\n",
            "Collecting tesseract\n",
            "\u001b[?25l  Downloading https://files.pythonhosted.org/packages/8d/b7/c4fae9af5842f69d9c45bf1195a94aec090628535c102894552a7a7dbe6c/tesseract-0.1.3.tar.gz (45.6MB)\n",
            "\u001b[K     |████████████████████████████████| 45.6MB 96kB/s \n",
            "\u001b[?25hBuilding wheels for collected packages: tesseract\n",
            "  Building wheel for tesseract (setup.py) ... \u001b[?25l\u001b[?25hdone\n",
            "  Created wheel for tesseract: filename=tesseract-0.1.3-cp37-none-any.whl size=45562571 sha256=9ed3749abbea399481088a52060752b3fbf2100f3a43a752674caf8fa504dfef\n",
            "  Stored in directory: /root/.cache/pip/wheels/82/1f/d9/24797b123379e4ea9511cf660835468b62dad609634cad2aba\n",
            "Successfully built tesseract\n",
            "Installing collected packages: tesseract\n",
            "Successfully installed tesseract-0.1.3\n",
            "Collecting pdf2image\n",
            "  Downloading https://files.pythonhosted.org/packages/7a/17/debc231f9bdb499e93389bb8679c7091ee9e4993dd92ed2da18aa896e2b6/pdf2image-1.15.1-py3-none-any.whl\n",
            "Requirement already satisfied: pillow in /usr/local/lib/python3.7/dist-packages (from pdf2image) (7.1.2)\n",
            "Installing collected packages: pdf2image\n",
            "Successfully installed pdf2image-1.15.1\n",
            "Reading package lists... Done\n",
            "Building dependency tree       \n",
            "Reading state information... Done\n",
            "The following package was automatically installed and is no longer required:\n",
            "  libnvidia-common-460\n",
            "Use 'apt autoremove' to remove it.\n",
            "The following NEW packages will be installed:\n",
            "  poppler-utils\n",
            "0 upgraded, 1 newly installed, 0 to remove and 34 not upgraded.\n",
            "Need to get 154 kB of archives.\n",
            "After this operation, 613 kB of additional disk space will be used.\n",
            "Get:1 http://archive.ubuntu.com/ubuntu bionic-updates/main amd64 poppler-utils amd64 0.62.0-2ubuntu2.12 [154 kB]\n",
            "Fetched 154 kB in 1s (251 kB/s)\n",
            "Selecting previously unselected package poppler-utils.\n",
            "(Reading database ... 160706 files and directories currently installed.)\n",
            "Preparing to unpack .../poppler-utils_0.62.0-2ubuntu2.12_amd64.deb ...\n",
            "Unpacking poppler-utils (0.62.0-2ubuntu2.12) ...\n",
            "Setting up poppler-utils (0.62.0-2ubuntu2.12) ...\n",
            "Processing triggers for man-db (2.8.3-2ubuntu0.1) ...\n",
            "Reading package lists... Done\n",
            "Building dependency tree       \n",
            "Reading state information... Done\n",
            "The following package was automatically installed and is no longer required:\n",
            "  libnvidia-common-460\n",
            "Use 'apt autoremove' to remove it.\n",
            "The following additional packages will be installed:\n",
            "  tesseract-ocr-eng tesseract-ocr-osd\n",
            "The following NEW packages will be installed:\n",
            "  tesseract-ocr tesseract-ocr-eng tesseract-ocr-osd\n",
            "0 upgraded, 3 newly installed, 0 to remove and 34 not upgraded.\n",
            "Need to get 4,795 kB of archives.\n",
            "After this operation, 15.8 MB of additional disk space will be used.\n",
            "Get:1 http://archive.ubuntu.com/ubuntu bionic/universe amd64 tesseract-ocr-eng all 4.00~git24-0e00fe6-1.2 [1,588 kB]\n",
            "Get:2 http://archive.ubuntu.com/ubuntu bionic/universe amd64 tesseract-ocr-osd all 4.00~git24-0e00fe6-1.2 [2,989 kB]\n",
            "Get:3 http://archive.ubuntu.com/ubuntu bionic/universe amd64 tesseract-ocr amd64 4.00~git2288-10f4998a-2 [218 kB]\n",
            "Fetched 4,795 kB in 1s (3,759 kB/s)\n",
            "Selecting previously unselected package tesseract-ocr-eng.\n",
            "(Reading database ... 160734 files and directories currently installed.)\n",
            "Preparing to unpack .../tesseract-ocr-eng_4.00~git24-0e00fe6-1.2_all.deb ...\n",
            "Unpacking tesseract-ocr-eng (4.00~git24-0e00fe6-1.2) ...\n",
            "Selecting previously unselected package tesseract-ocr-osd.\n",
            "Preparing to unpack .../tesseract-ocr-osd_4.00~git24-0e00fe6-1.2_all.deb ...\n",
            "Unpacking tesseract-ocr-osd (4.00~git24-0e00fe6-1.2) ...\n",
            "Selecting previously unselected package tesseract-ocr.\n",
            "Preparing to unpack .../tesseract-ocr_4.00~git2288-10f4998a-2_amd64.deb ...\n",
            "Unpacking tesseract-ocr (4.00~git2288-10f4998a-2) ...\n",
            "Setting up tesseract-ocr-osd (4.00~git24-0e00fe6-1.2) ...\n",
            "Setting up tesseract-ocr-eng (4.00~git24-0e00fe6-1.2) ...\n",
            "Setting up tesseract-ocr (4.00~git2288-10f4998a-2) ...\n",
            "Processing triggers for man-db (2.8.3-2ubuntu0.1) ...\n",
            "Reading package lists... Done\n",
            "Building dependency tree       \n",
            "Reading state information... Done\n",
            "The following package was automatically installed and is no longer required:\n",
            "  libnvidia-common-460\n",
            "Use 'apt autoremove' to remove it.\n",
            "The following additional packages will be installed:\n",
            "  libleptonica-dev\n",
            "The following NEW packages will be installed:\n",
            "  libleptonica-dev libtesseract-dev\n",
            "0 upgraded, 2 newly installed, 0 to remove and 34 not upgraded.\n",
            "Need to get 2,755 kB of archives.\n",
            "After this operation, 13.8 MB of additional disk space will be used.\n",
            "Get:1 http://archive.ubuntu.com/ubuntu bionic/universe amd64 libleptonica-dev amd64 1.75.3-3 [1,308 kB]\n",
            "Get:2 http://archive.ubuntu.com/ubuntu bionic/universe amd64 libtesseract-dev amd64 4.00~git2288-10f4998a-2 [1,447 kB]\n",
            "Fetched 2,755 kB in 1s (2,335 kB/s)\n",
            "Selecting previously unselected package libleptonica-dev.\n",
            "(Reading database ... 160781 files and directories currently installed.)\n",
            "Preparing to unpack .../libleptonica-dev_1.75.3-3_amd64.deb ...\n",
            "Unpacking libleptonica-dev (1.75.3-3) ...\n",
            "Selecting previously unselected package libtesseract-dev.\n",
            "Preparing to unpack .../libtesseract-dev_4.00~git2288-10f4998a-2_amd64.deb ...\n",
            "Unpacking libtesseract-dev (4.00~git2288-10f4998a-2) ...\n",
            "Setting up libleptonica-dev (1.75.3-3) ...\n",
            "Setting up libtesseract-dev (4.00~git2288-10f4998a-2) ...\n",
            "Reading package lists... Done\n",
            "Building dependency tree       \n",
            "Reading state information... Done\n",
            "tesseract-ocr is already the newest version (4.00~git2288-10f4998a-2).\n",
            "The following package was automatically installed and is no longer required:\n",
            "  libnvidia-common-460\n",
            "Use 'sudo apt autoremove' to remove it.\n",
            "0 upgraded, 0 newly installed, 0 to remove and 34 not upgraded.\n",
            "Requirement already satisfied: Pillow in /usr/local/lib/python3.7/dist-packages (7.1.2)\n"
          ],
          "name": "stdout"
        }
      ]
    },
    {
      "cell_type": "markdown",
      "metadata": {
        "id": "QUqLCcoaXqd3"
      },
      "source": [
        "###**I will use the loop method taught in the AI lectures to convert PDF to Image files and after that we will proceed further for pre-processing.**"
      ]
    },
    {
      "cell_type": "markdown",
      "metadata": {
        "id": "ICAeX8papHxW"
      },
      "source": [
        "###**NOTE:** I have divided all the 50 images in 4 different classes namely CLASS 1, CLASS 2, CLASS 3 and CLASS 4 based on their region of extraction."
      ]
    },
    {
      "cell_type": "markdown",
      "metadata": {
        "id": "HgKHbojHS1QC"
      },
      "source": [
        "###**In each class I have used 8 techniques:**\n",
        "###1. No Grayscaling\n",
        "###2. Grayscaling and Binarization\n",
        "###3. Erosion\n",
        "###4. Contour\n",
        "###5. Gaussian \n",
        "###**Three forms of Edge Detection** \n",
        "###6a. Canny\n",
        "###6b. Laplacian\n",
        "###6c. Sobel"
      ]
    },
    {
      "cell_type": "markdown",
      "metadata": {
        "id": "Pa8h0MclYK_-"
      },
      "source": [
        "# **CLASS 1**\n",
        "\n",
        "### This code block consists of different 12 images. So, the numbers should vary between 1-12 for text comparison.\n"
      ]
    },
    {
      "cell_type": "code",
      "metadata": {
        "colab": {
          "base_uri": "https://localhost:8080/"
        },
        "id": "gfXH4XexWO3x",
        "outputId": "05ec7735-5024-4e17-ce6e-e068277bb471"
      },
      "source": [
        "#In this section we will convert the PDF files to JPEG format.\n",
        "\n",
        "#Mounting Google Drive\n",
        "from google.colab import drive\n",
        "drive.mount('/content/gdrive')\n",
        "\n",
        "#Now we will run a loop which will find all image files with name Class1Pdf and convert it into jpeg format\n",
        "for x in range(12):\n",
        "  PDF_file = (\"/content/gdrive/My Drive/CA3 Images/Class 1/Class1Pdf\" + str(x+1) + \".pdf\")\n",
        "  pages = convert_from_path(PDF_file, 500, single_file=True)\n",
        "  pages[0].save(\"/content/gdrive/My Drive/CA3 Images/Class 1/Class1Img\" + str(x+1), 'JPEG') # This line will save the images to same location or the location defined\n"
      ],
      "execution_count": 3,
      "outputs": [
        {
          "output_type": "stream",
          "text": [
            "Mounted at /content/gdrive\n"
          ],
          "name": "stdout"
        }
      ]
    },
    {
      "cell_type": "code",
      "metadata": {
        "id": "S6mfTLkAroEw"
      },
      "source": [
        "# In this code block, we will take images one by one and extract ROI as required.\n",
        "\n",
        "for x in range(12):\n",
        "  img1 = cv2.imread('/content/gdrive/My Drive/CA3 Images/Class 1/Class1Img' + str(x+1), cv2.IMREAD_UNCHANGED)\n",
        "\n",
        "  #Extracting \"Bill of Materials\" from images\n",
        "  roi1 = img1[0:img1.shape[0]-2900,5400:img1.shape[1]-250]  #The coordinates needs to be changed for every class\n",
        "\n",
        "  #Saving Pre-processed ROI for Class 1\n",
        "  cv2.imwrite('/content/gdrive/My Drive/CA3 Images/Class 1/Class1ImgROI' + str(x+1) + '.jpg', roi1) #This line of code will save exracted ROI in jpg format with name Class1ImgROI one by one"
      ],
      "execution_count": 21,
      "outputs": []
    },
    {
      "cell_type": "markdown",
      "metadata": {
        "id": "nXV6BLDZ47Hh"
      },
      "source": [
        "###**TECHNIQUE 1 - BOUNDING BOX - NO GRAYSCALING OR BINARIZATION**"
      ]
    },
    {
      "cell_type": "code",
      "metadata": {
        "id": "8I110MVa6zBd"
      },
      "source": [
        "for x in range(12):\n",
        "  img1_new = cv2.imread('/content/gdrive/My Drive/CA3 Images/Class 1/Class1ImgROI' + str(x+1) + '.jpg')\n",
        "\n",
        "  #Adding custom options\n",
        "  custom_config = r'--oem 3 --psm 6'\n",
        "\n",
        "  h, w, c = img1_new.shape\n",
        "  boxes = pytesseract.image_to_boxes(img1_new) \n",
        "  for b in boxes.splitlines():\n",
        "      b = b.split(' ')\n",
        "      img1_new = cv2.rectangle(img1_new, (int(b[1]), h - int(b[2])), (int(b[3]), h - int(b[4])), (255, 0, 255), 2) #OpenCV is in Blue, Green, Red format.\n",
        "\n",
        "  cv2.imwrite('/content/gdrive/My Drive/CA3 Images/Class 1/Class1NGB' + str(x+1) + '.jpg', img1_new)\n",
        "  \n",
        "  #cv2_imshow(img1_new) -> I have commented this line as this will only give output of the last image processed."
      ],
      "execution_count": 13,
      "outputs": []
    },
    {
      "cell_type": "code",
      "metadata": {
        "id": "bNx30OZMvwi_"
      },
      "source": [
        "# Taking an image file and converting it into text form to compare with another text file.\n",
        "pytesseract.pytesseract.tesseract_cmd = r'/usr/bin/tesseract'\n",
        "text = str(((pytesseract.image_to_string(Image.open(\"/content/gdrive/My Drive/CA3 Images/Class 1/Class1NGB1\" + \".jpg\"), lang='eng')))) \n",
        "text = text.replace('-\\n', '')\t \n",
        " \n",
        "with open(\"/content/gdrive/My Drive/CA3 Images/Class 1/Class1NGB1.txt\", 'a') as writefile:\n",
        "  writefile.write(text + \"\\n\")"
      ],
      "execution_count": 14,
      "outputs": []
    },
    {
      "cell_type": "code",
      "metadata": {
        "colab": {
          "base_uri": "https://localhost:8080/"
        },
        "id": "7WhnhsyXwCQB",
        "outputId": "5bb3274e-b267-4dce-ebfd-b753091f17c9"
      },
      "source": [
        "from difflib import SequenceMatcher\n",
        "text1 = open(\"/content/gdrive/My Drive/CA3 Images/Class 1/Class1NGB1.txt\").read()\n",
        "text2 = open(\"/content/gdrive/My Drive/CA3 Images/Class 1/Class1Txt1.txt\").read()\n",
        "m = SequenceMatcher(None, text1, text2)\n",
        "m.ratio()"
      ],
      "execution_count": 15,
      "outputs": [
        {
          "output_type": "execute_result",
          "data": {
            "text/plain": [
              "0.10193548387096774"
            ]
          },
          "metadata": {
            "tags": []
          },
          "execution_count": 15
        }
      ]
    },
    {
      "cell_type": "markdown",
      "metadata": {
        "id": "yAFA0Aij5Iae"
      },
      "source": [
        "###**TECHNIQUE 2 - GRAYSCALE**"
      ]
    },
    {
      "cell_type": "code",
      "metadata": {
        "id": "qKnaFTqi9tjR"
      },
      "source": [
        "for x in range(12):\n",
        "  img1_new = cv2.imread('/content/gdrive/My Drive/CA3 Images/Class 1/Class1ImgROI' + str(x+1) + '.jpg')\n",
        "  img1grayscale_new = cv2.cvtColor(img1_new,cv2.COLOR_BGR2GRAY)\n",
        "  img1_thresh = cv2.adaptiveThreshold(img1grayscale_new,255,cv2.ADAPTIVE_THRESH_GAUSSIAN_C,cv2.THRESH_BINARY,11,4)\n",
        "\n",
        "  h, w = img1_thresh.shape\n",
        "  boxes = pytesseract.image_to_boxes(img1_thresh) \n",
        "  for b in boxes.splitlines():\n",
        "      b = b.split(' ')\n",
        "      img1_new = cv2.rectangle(img1_thresh, (int(b[1]), h - int(b[2])), (int(b[3]), h - int(b[4])), (255, 0, 0), 2) #OpenCV is in Blue, Green, Red format.\n",
        "\n",
        "  cv2.imwrite('/content/gdrive/My Drive/CA3 Images/Class 1/Class1Gray' + str(x+1) + '.jpg', img1_new)"
      ],
      "execution_count": 22,
      "outputs": []
    },
    {
      "cell_type": "code",
      "metadata": {
        "id": "EBqroPZJuo4s"
      },
      "source": [
        "# Taking an image file and converting it into text form to compare with another text file.\n",
        "pytesseract.pytesseract.tesseract_cmd = r'/usr/bin/tesseract'\n",
        "text = str(((pytesseract.image_to_string(Image.open(\"/content/gdrive/My Drive/CA3 Images/Class 1/Class1Gray5\" + \".jpg\"), lang='eng')))) \n",
        "text = text.replace('-\\n', '')\t \n",
        " \n",
        "with open(\"/content/gdrive/My Drive/CA3 Images/Class 1/Class1Gray5.txt\", 'a') as writefile:\n",
        "  writefile.write(text + \"\\n\")"
      ],
      "execution_count": 23,
      "outputs": []
    },
    {
      "cell_type": "code",
      "metadata": {
        "colab": {
          "base_uri": "https://localhost:8080/"
        },
        "id": "-oqEvqoouorr",
        "outputId": "6c4a706e-7076-4106-fd4a-14835f6583e4"
      },
      "source": [
        "from difflib import SequenceMatcher\n",
        "text1 = open(\"/content/gdrive/My Drive/CA3 Images/Class 1/Class1Edge5.txt\").read()\n",
        "text2 = open(\"/content/gdrive/My Drive/CA3 Images/Class 1/Class1Txt5.txt\").read()\n",
        "m = SequenceMatcher(None, text1, text2)\n",
        "m.ratio()"
      ],
      "execution_count": 24,
      "outputs": [
        {
          "output_type": "execute_result",
          "data": {
            "text/plain": [
              "0.39637599093997733"
            ]
          },
          "metadata": {
            "tags": []
          },
          "execution_count": 24
        }
      ]
    },
    {
      "cell_type": "markdown",
      "metadata": {
        "id": "niAFpGtC5Qv3"
      },
      "source": [
        "###**TECHNIQUE 3 - EROSION**"
      ]
    },
    {
      "cell_type": "code",
      "metadata": {
        "id": "EeUQgXaX-tA9"
      },
      "source": [
        "for x in range(12):\n",
        "  img1_new = cv2.imread('/content/gdrive/My Drive/CA3 Images/Class 1/Class1ImgROI' + str(x+1) + '.jpg', cv2.IMREAD_UNCHANGED)\n",
        "  img_gray = cv2.cvtColor(img1_new,cv2.COLOR_BGR2GRAY)\n",
        "  kernel = np.ones((1,1),np.uint8)\n",
        "  img_eros = cv2.erode(img_gray,kernel,iterations = 2)\n",
        "  h, w = img_eros.shape\n",
        "  boxes = pytesseract.image_to_boxes(img_eros) \n",
        "  for b in boxes.splitlines():\n",
        "      b = b.split(' ')\n",
        "      img1_new = cv2.rectangle(img_eros, (int(b[1]), h - int(b[2])), (int(b[3]), h - int(b[4])), (205, 10, 90), 3)\n",
        "\n",
        "  cv2.imwrite('/content/gdrive/My Drive/CA3 Images/Class 1/Class1Eros' + str(x+1) +'.jpg', img1_new)"
      ],
      "execution_count": 147,
      "outputs": []
    },
    {
      "cell_type": "code",
      "metadata": {
        "id": "dzPnHfRdrIYP"
      },
      "source": [
        "# Taking an image file and converting it into text form to compare with another text file.\n",
        "pytesseract.pytesseract.tesseract_cmd = r'/usr/bin/tesseract'\n",
        "text = str(((pytesseract.image_to_string(Image.open(\"/content/gdrive/My Drive/CA3 Images/Class 1/Class1Eros7\" + \".jpg\"), lang='eng')))) \n",
        "text = text.replace('-\\n', '')\t \n",
        " \n",
        "with open(\"/content/gdrive/My Drive/CA3 Images/Class 1/Class1Eros7.txt\", 'a') as writefile:\n",
        "  writefile.write(text + \"\\n\")"
      ],
      "execution_count": 148,
      "outputs": []
    },
    {
      "cell_type": "code",
      "metadata": {
        "colab": {
          "base_uri": "https://localhost:8080/"
        },
        "id": "fVH-9r9lrJR5",
        "outputId": "4d44bb6b-8aef-461e-ef40-5c16d04018cd"
      },
      "source": [
        "from difflib import SequenceMatcher\n",
        "text1 = open(\"/content/gdrive/My Drive/CA3 Images/Class 1/Class1Eros7.txt\").read()\n",
        "text2 = open(\"/content/gdrive/My Drive/CA3 Images/Class 1/Class1Txt7.txt\").read()\n",
        "m = SequenceMatcher(None, text1, text2)\n",
        "m.ratio()"
      ],
      "execution_count": 149,
      "outputs": [
        {
          "output_type": "execute_result",
          "data": {
            "text/plain": [
              "0.487192890747517"
            ]
          },
          "metadata": {
            "tags": []
          },
          "execution_count": 149
        }
      ]
    },
    {
      "cell_type": "markdown",
      "metadata": {
        "id": "xlBhdmj-aisW"
      },
      "source": [
        "###**TECHNIQUE 4 - CONTOUR DETECTION**"
      ]
    },
    {
      "cell_type": "code",
      "metadata": {
        "id": "acpOO7EG_oaX"
      },
      "source": [
        "for x in range(12):\n",
        "  img1 = cv2.imread('/content/gdrive/My Drive/CA3 Images/Class 1/Class1ImgROI' + str(x+1) +'.jpg', cv2.IMREAD_UNCHANGED)\n",
        "\n",
        "  img_gray = cv2.cvtColor(img1,cv2.COLOR_BGR2GRAY)\n",
        "  img_thresh = cv2.threshold(img_gray, 30, 255, cv2.THRESH_BINARY_INV + cv2.THRESH_OTSU)[1]\n",
        "\n",
        "  #Detect the contours on the binary image \n",
        "  contours, hierarchy = cv2.findContours(image=img_thresh, mode=cv2.RETR_TREE, method=cv2.CHAIN_APPROX_NONE)\n",
        "                                     \n",
        "  #Draw contours on the original image\n",
        "  img1_copy = img1.copy()\n",
        "  cv2.drawContours(image=img1_copy, contours=contours, contourIdx=-1, color=(0, 255, 255), thickness=5, lineType=cv2.LINE_AA)\n",
        "\n",
        "  h, w, c = img1_copy.shape\n",
        "  boxes = pytesseract.image_to_boxes(img1_copy) \n",
        "  for b in boxes.splitlines():\n",
        "      b = b.split(' ')\n",
        "      img1_copy = cv2.rectangle(img1_copy, (int(b[1]), h - int(b[2])), (int(b[3]), h - int(b[4])), (0, 255, 0), 2)\n",
        "\n",
        "  cv2.imwrite('/content/gdrive/My Drive/CA3 Images/Class 1/Class1Cont' + str(x+1) +'.jpg', img1_copy)"
      ],
      "execution_count": 28,
      "outputs": []
    },
    {
      "cell_type": "code",
      "metadata": {
        "id": "LrMMJGhIpRAM"
      },
      "source": [
        "# Taking an image file and converting it into text form to compare with another text file.\n",
        "pytesseract.pytesseract.tesseract_cmd = r'/usr/bin/tesseract'\n",
        "text = str(((pytesseract.image_to_string(Image.open(\"/content/gdrive/My Drive/CA3 Images/Class 1/Class1Cont11\" + \".jpg\"), lang='eng')))) \n",
        "text = text.replace('-\\n', '')\t \n",
        " \n",
        "with open(\"/content/gdrive/My Drive/CA3 Images/Class 1/Class1Cont11.txt\", 'a') as writefile:\n",
        "  writefile.write(text + \"\\n\")"
      ],
      "execution_count": 29,
      "outputs": []
    },
    {
      "cell_type": "code",
      "metadata": {
        "colab": {
          "base_uri": "https://localhost:8080/"
        },
        "id": "S4eRC-kMpXuf",
        "outputId": "ac10a711-e95b-4a6c-c156-aaf401a2c279"
      },
      "source": [
        "from difflib import SequenceMatcher\n",
        "text1 = open(\"/content/gdrive/My Drive/CA3 Images/Class 1/Class1Cont11.txt\").read()\n",
        "text2 = open(\"/content/gdrive/My Drive/CA3 Images/Class 1/Class1Txt11.txt\").read()\n",
        "m = SequenceMatcher(None, text1, text2)\n",
        "m.ratio()"
      ],
      "execution_count": 30,
      "outputs": [
        {
          "output_type": "execute_result",
          "data": {
            "text/plain": [
              "0.04630454140694568"
            ]
          },
          "metadata": {
            "tags": []
          },
          "execution_count": 30
        }
      ]
    },
    {
      "cell_type": "markdown",
      "metadata": {
        "id": "d8HF0kiF5UVt"
      },
      "source": [
        "###**TECHNIQUE 5 - GAUSSIAN BLUR**"
      ]
    },
    {
      "cell_type": "code",
      "metadata": {
        "id": "cTf97KNxAUhm"
      },
      "source": [
        "#GAUSSIAN BLUR\n",
        "for x in range(12):\n",
        "  img1 = cv2.imread('/content/gdrive/My Drive/CA3 Images/Class 1/Class1ImgROI' + str(x+1) + '.jpg')\n",
        "  img_gray = cv2.cvtColor(img1,cv2.COLOR_BGR2GRAY)\n",
        "  img_thresh = cv2.threshold(img_gray, 20, 255, cv2.THRESH_BINARY_INV + cv2.THRESH_OTSU)[1]\n",
        "  img1 = cv2.GaussianBlur(img_thresh, (7, 5), 6)     #Remove the noise in image\n",
        "  h, w = img1.shape\n",
        "  boxes = pytesseract.image_to_boxes(img1) \n",
        "  for b in boxes.splitlines():\n",
        "      b = b.split(' ')\n",
        "      img1 = cv2.rectangle(img1, (int(b[1]), h - int(b[2])), (int(b[3]), h - int(b[4])), (255, 0, 0), 2)\n",
        "  cv2.imwrite('/content/gdrive/My Drive/CA3 Images/Class 1/Class1Gaus' + str(x+1) + '.jpg', img1)"
      ],
      "execution_count": 31,
      "outputs": []
    },
    {
      "cell_type": "code",
      "metadata": {
        "id": "fjqUwjp6Xh2K"
      },
      "source": [
        "# Taking an image file and converting it into text form to compare with another text file.\n",
        "pytesseract.pytesseract.tesseract_cmd = r'/usr/bin/tesseract'\n",
        "text = str(((pytesseract.image_to_string(Image.open(\"/content/gdrive/My Drive/CA3 Images/Class 1/Class1Gaus9\" + \".jpg\"), lang='eng')))) \n",
        "text = text.replace('-\\n', '')\t \n",
        " \n",
        "with open(\"/content/gdrive/My Drive/CA3 Images/Class 1/Class1Gaus9.txt\", 'a') as writefile:\n",
        "  writefile.write(text + \"\\n\")"
      ],
      "execution_count": 32,
      "outputs": []
    },
    {
      "cell_type": "code",
      "metadata": {
        "colab": {
          "base_uri": "https://localhost:8080/"
        },
        "id": "ELqUk5-bXpss",
        "outputId": "59fa572f-3c5d-47f6-a484-189cc2020f4f"
      },
      "source": [
        "from difflib import SequenceMatcher\n",
        "text1 = open(\"/content/gdrive/My Drive/CA3 Images/Class 1/Class1Gaus9.txt\").read()\n",
        "text2 = open(\"/content/gdrive/My Drive/CA3 Images/Class 1/Class1Txt9.txt\").read()\n",
        "m = SequenceMatcher(None, text1, text2)\n",
        "m.ratio()"
      ],
      "execution_count": 33,
      "outputs": [
        {
          "output_type": "execute_result",
          "data": {
            "text/plain": [
              "0.15361670395227442"
            ]
          },
          "metadata": {
            "tags": []
          },
          "execution_count": 33
        }
      ]
    },
    {
      "cell_type": "markdown",
      "metadata": {
        "id": "QIoTjaXn5Wp8"
      },
      "source": [
        "###**TECHNIQUE 6 - EDGE DETECTION - CANNY**"
      ]
    },
    {
      "cell_type": "code",
      "metadata": {
        "id": "3xWuwz3FFR7q"
      },
      "source": [
        "#Edge Detection\n",
        "for x in range(12):\n",
        "  img1 = cv2.imread('/content/gdrive/My Drive/CA3 Images/Class 1/Class1ImgROI' + str(x+1) + '.jpg')\n",
        "  img_gray = cv2.cvtColor(img1, cv2.COLOR_BGR2GRAY)\n",
        "  img_thresh = cv2.threshold(img_gray, 10, 205, cv2.THRESH_BINARY_INV + cv2.THRESH_OTSU)[1]\n",
        "\n",
        "  #Perform the canny edge technique to detect text edges\n",
        "  edges = cv2.Canny(img_thresh, threshold1=230, threshold2=250) #The value of threshold can be changed to get different results\n",
        "  h, w = edges.shape\n",
        "  boxes = pytesseract.image_to_boxes(edges) \n",
        "  for b in boxes.splitlines():\n",
        "      b = b.split(' ')\n",
        "      edges = cv2.rectangle(edges, (int(b[1]), h - int(b[2])), (int(b[3]), h - int(b[4])), (0, 255, 255), 2)\n",
        "\n",
        "  cv2.imwrite('/content/gdrive/My Drive/CA3 Images/Class 1/Class1Cann' + str(x+1) + '.jpg', edges)"
      ],
      "execution_count": 34,
      "outputs": []
    },
    {
      "cell_type": "code",
      "metadata": {
        "id": "jjTEOftfWeWW"
      },
      "source": [
        "# Taking an image file and converting it into text form to compare with another text file.\n",
        "pytesseract.pytesseract.tesseract_cmd = r'/usr/bin/tesseract'\n",
        "text = str(((pytesseract.image_to_string(Image.open(\"/content/gdrive/My Drive/CA3 Images/Class 1/Class1Cann6\" + \".jpg\"), lang='eng')))) \n",
        "text = text.replace('-\\n', '')\t \n",
        " \n",
        "with open(\"/content/gdrive/My Drive/CA3 Images/Class 1/Class1Cann6.txt\", 'a') as writefile:\n",
        "  writefile.write(text + \"\\n\")"
      ],
      "execution_count": 35,
      "outputs": []
    },
    {
      "cell_type": "code",
      "metadata": {
        "colab": {
          "base_uri": "https://localhost:8080/"
        },
        "id": "309-xF85Wrqn",
        "outputId": "0a5f7e64-8c89-42ee-bc75-0032459bff7a"
      },
      "source": [
        "from difflib import SequenceMatcher\n",
        "text1 = open(\"/content/gdrive/My Drive/CA3 Images/Class 1/Class1Cann6.txt\").read()\n",
        "text2 = open(\"/content/gdrive/My Drive/CA3 Images/Class 1/Class1Txt6.txt\").read()\n",
        "m = SequenceMatcher(None, text1, text2)\n",
        "m.ratio()"
      ],
      "execution_count": 36,
      "outputs": [
        {
          "output_type": "execute_result",
          "data": {
            "text/plain": [
              "0.05142537730575741"
            ]
          },
          "metadata": {
            "tags": []
          },
          "execution_count": 36
        }
      ]
    },
    {
      "cell_type": "markdown",
      "metadata": {
        "id": "1QQeWLD5YGWa"
      },
      "source": [
        "###**TECHNIQUE 7 - EDGE DETECTION - LAPLACIAN**"
      ]
    },
    {
      "cell_type": "code",
      "metadata": {
        "id": "sTgUWt9MGVXf"
      },
      "source": [
        "for x in range(12):\n",
        "  img1 = cv2.imread('/content/gdrive/My Drive/CA3 Images/Class 1/Class1ImgROI' + str(x+1) + '.jpg', cv2.IMREAD_COLOR) # Load an image\n",
        "  img_gb = cv2.GaussianBlur(img1, (0, 0), 5)\n",
        "  img_gray = cv2.cvtColor(img_gb, cv2.COLOR_BGR2GRAY)\n",
        "  img_lp = cv2.Laplacian(img_gray, cv2.CV_8U, -2)\n",
        "\n",
        "  cv2.imwrite('/content/gdrive/My Drive/CA3 Images/Class 1/Class1LP' + str(x+1) + '.jpg', img_lp)"
      ],
      "execution_count": 37,
      "outputs": []
    },
    {
      "cell_type": "code",
      "metadata": {
        "id": "z2T0vM3xVW5x"
      },
      "source": [
        "# Taking an image file and converting it into text form to compare with another text file.\n",
        "pytesseract.pytesseract.tesseract_cmd = r'/usr/bin/tesseract'\n",
        "text = str(((pytesseract.image_to_string(Image.open(\"/content/gdrive/My Drive/CA3 Images/Class 1/Class1LP2\" + \".jpg\"), lang='eng')))) \n",
        "text = text.replace('-\\n', '')\t \n",
        " \n",
        "with open(\"/content/gdrive/My Drive/CA3 Images/Class 1/Class1LP2.txt\", 'a') as writefile:\n",
        "  writefile.write(text + \"\\n\")"
      ],
      "execution_count": 38,
      "outputs": []
    },
    {
      "cell_type": "code",
      "metadata": {
        "colab": {
          "base_uri": "https://localhost:8080/"
        },
        "id": "8BDxhKMrVdn1",
        "outputId": "8a1b85be-deb8-4d8e-a716-d9c20d42f5c2"
      },
      "source": [
        "from difflib import SequenceMatcher\n",
        "text1 = open(\"/content/gdrive/My Drive/CA3 Images/Class 1/Class1LP2.txt\").read()\n",
        "text2 = open(\"/content/gdrive/My Drive/CA3 Images/Class 1/Class1Txt2.txt\").read()\n",
        "m = SequenceMatcher(None, text1, text2)\n",
        "m.ratio()"
      ],
      "execution_count": 39,
      "outputs": [
        {
          "output_type": "execute_result",
          "data": {
            "text/plain": [
              "0.0484716947006692"
            ]
          },
          "metadata": {
            "tags": []
          },
          "execution_count": 39
        }
      ]
    },
    {
      "cell_type": "markdown",
      "metadata": {
        "id": "8NZ2KrINXCxH"
      },
      "source": [
        "## **NOTE:** We will do similar for Class 2, 3 and 4 respectively."
      ]
    },
    {
      "cell_type": "markdown",
      "metadata": {
        "id": "pqiBS5HAYAgc"
      },
      "source": [
        "# **CLASS 2**\n",
        "\n",
        "### This code block consists of 4 different images. So, the numbers should vary between 1-4 for text comparison."
      ]
    },
    {
      "cell_type": "code",
      "metadata": {
        "colab": {
          "base_uri": "https://localhost:8080/"
        },
        "id": "d2Q59ukMXWvO",
        "outputId": "abc6a8cc-b49e-4ef0-c94c-9d00f0818e04"
      },
      "source": [
        "from google.colab import drive\n",
        "drive.mount('/content/gdrive')\n",
        "\n",
        "for x in range(4):\n",
        "  PDF_file = (\"/content/gdrive/My Drive/CA3 Images/Class 2/Class2Pdf\" + str(x+1) + \".pdf\")\n",
        "  pages = convert_from_path(PDF_file, 500, single_file=True)\n",
        "  pages[0].save(\"/content/gdrive/My Drive/CA3 Images/Class 2/Class2Img\" + str(x+1), 'JPEG')"
      ],
      "execution_count": 188,
      "outputs": [
        {
          "output_type": "stream",
          "text": [
            "Drive already mounted at /content/gdrive; to attempt to forcibly remount, call drive.mount(\"/content/gdrive\", force_remount=True).\n"
          ],
          "name": "stdout"
        }
      ]
    },
    {
      "cell_type": "code",
      "metadata": {
        "id": "QwAlyjSxeHhu"
      },
      "source": [
        "for x in range(4):\n",
        "  img2 = cv2.imread('/content/gdrive/My Drive/CA3 Images/Class 2/Class2Img' + str(x+1), cv2.IMREAD_UNCHANGED) \n",
        "\n",
        "  #Extracting \"Bill of Material\" for Class 2\n",
        "  roi2 = img2[0:img2.shape[0]-2500,5800:img2.shape[1]-250]  #The coordinates are different than Class 1\n",
        "\n",
        "  #Saving ROI for Class 2\n",
        "  cv2.imwrite('/content/gdrive/My Drive/CA3 Images/Class 2/Class2ImgROI' + str(x+1) + '.jpg', roi2)"
      ],
      "execution_count": 189,
      "outputs": []
    },
    {
      "cell_type": "markdown",
      "metadata": {
        "id": "szHSi33N3C82"
      },
      "source": [
        "###**TECHNIQUE 1 - NO GRAYSCALING AND BINARIZATION**"
      ]
    },
    {
      "cell_type": "code",
      "metadata": {
        "id": "ZPOPMH1E6Lar"
      },
      "source": [
        "for x in range(4):\n",
        "  img2_new = cv2.imread('/content/gdrive/My Drive/CA3 Images/Class 2/Class2ImgROI' + str(x+1) + '.jpg')\n",
        "\n",
        "  #Adding custom options\n",
        "  custom_config = r'--oem 3 --psm 6'\n",
        "\n",
        "  h, w, c = img2_new.shape\n",
        "  boxes = pytesseract.image_to_boxes(img2_new) \n",
        "  for b in boxes.splitlines():\n",
        "      b = b.split(' ')\n",
        "      img2_new = cv2.rectangle(img2_new, (int(b[1]), h - int(b[2])), (int(b[3]), h - int(b[4])), (255, 0, 255), 2) #OpenCV is in Blue, Green, Red format.\n",
        "\n",
        "  cv2.imwrite('/content/gdrive/My Drive/CA3 Images/Class 2/Class2NGB' + str(x+1) + '.jpg', img2_new)"
      ],
      "execution_count": 11,
      "outputs": []
    },
    {
      "cell_type": "code",
      "metadata": {
        "id": "KfNwfeWw3phT"
      },
      "source": [
        "#Taking an image file and converting it into text form to compare with another text file.\n",
        "pytesseract.pytesseract.tesseract_cmd = r'/usr/bin/tesseract'\n",
        "text = str(((pytesseract.image_to_string(Image.open(\"/content/gdrive/My Drive/CA3 Images/Class 2/Class2NGB2\" + \".jpg\"), lang='eng')))) \n",
        "text = text.replace('-\\n', '')\t \n",
        " \n",
        "with open(\"/content/gdrive/My Drive/CA3 Images/Class 2/Class2NGB2.txt\", 'a') as writefile:\n",
        "  writefile.write(text + \"\\n\")"
      ],
      "execution_count": 189,
      "outputs": []
    },
    {
      "cell_type": "code",
      "metadata": {
        "colab": {
          "base_uri": "https://localhost:8080/"
        },
        "id": "hs7UeMBM4VKj",
        "outputId": "53d7044e-0332-4e9f-d455-63a568db239b"
      },
      "source": [
        "from difflib import SequenceMatcher\n",
        "text1 = open(\"/content/gdrive/My Drive/CA3 Images/Class 2/Class2NGB2.txt\").read()\n",
        "text2 = open(\"/content/gdrive/My Drive/CA3 Images/Class 2/Class2Txt2.txt\").read()\n",
        "m = SequenceMatcher(None, text1, text2)\n",
        "m.ratio()"
      ],
      "execution_count": 190,
      "outputs": [
        {
          "output_type": "execute_result",
          "data": {
            "text/plain": [
              "0.33064516129032256"
            ]
          },
          "metadata": {
            "tags": []
          },
          "execution_count": 190
        }
      ]
    },
    {
      "cell_type": "markdown",
      "metadata": {
        "id": "ujW-DmHL4jR-"
      },
      "source": [
        "###**TECHNIQUE 2 - GRAYSCALING AND BINARIZATION**"
      ]
    },
    {
      "cell_type": "code",
      "metadata": {
        "id": "oMxZ-WJe5r7V"
      },
      "source": [
        "for x in range(4):\n",
        "  img2_new = cv2.imread('/content/gdrive/My Drive/CA3 Images/Class 2/Class2ImgROI' + str(x+1) + '.jpg')\n",
        "  img2grayscale_new = cv2.cvtColor(img2_new,cv2.COLOR_BGR2GRAY)\n",
        "  img2_thresh = cv2.adaptiveThreshold(img2grayscale_new,255,cv2.ADAPTIVE_THRESH_GAUSSIAN_C,cv2.THRESH_BINARY,11,4)\n",
        "\n",
        "  h, w = img2_thresh.shape\n",
        "  boxes = pytesseract.image_to_boxes(img2_thresh) \n",
        "  for b in boxes.splitlines():\n",
        "      b = b.split(' ')\n",
        "      img2_new = cv2.rectangle(img2_thresh, (int(b[1]), h - int(b[2])), (int(b[3]), h - int(b[4])), (255, 0, 0), 2) #OpenCV is in Blue, Green, Red format.\n",
        "\n",
        "  cv2.imwrite('/content/gdrive/My Drive/CA3 Images/Class 2/Class2Gray' + str(x+1) + '.jpg', img2_new)"
      ],
      "execution_count": 10,
      "outputs": []
    },
    {
      "cell_type": "code",
      "metadata": {
        "id": "eCb1mqPL6Gbj"
      },
      "source": [
        "#Taking an image file and converting it into text form to compare with another text file.\n",
        "pytesseract.pytesseract.tesseract_cmd = r'/usr/bin/tesseract'\n",
        "text = str(((pytesseract.image_to_string(Image.open(\"/content/gdrive/My Drive/CA3 Images/Class 2/Class2Gray1\" + \".jpg\"), lang='eng')))) \n",
        "text = text.replace('-\\n', '')\t \n",
        " \n",
        "with open(\"/content/gdrive/My Drive/CA3 Images/Class 2/Class2Gray1.txt\", 'a') as writefile:\n",
        "  writefile.write(text + \"\\n\")"
      ],
      "execution_count": 196,
      "outputs": []
    },
    {
      "cell_type": "code",
      "metadata": {
        "colab": {
          "base_uri": "https://localhost:8080/"
        },
        "id": "Yp2PzbiT6VM5",
        "outputId": "2e18382b-ecfb-4813-fe76-107fe84cc554"
      },
      "source": [
        "from difflib import SequenceMatcher\n",
        "text1 = open(\"/content/gdrive/My Drive/CA3 Images/Class 2/Class2Gray1.txt\").read()\n",
        "text2 = open(\"/content/gdrive/My Drive/CA3 Images/Class 2/Class2Txt1.txt\").read()\n",
        "m = SequenceMatcher(None, text1, text2)\n",
        "m.ratio()"
      ],
      "execution_count": 197,
      "outputs": [
        {
          "output_type": "execute_result",
          "data": {
            "text/plain": [
              "0.07462686567164178"
            ]
          },
          "metadata": {
            "tags": []
          },
          "execution_count": 197
        }
      ]
    },
    {
      "cell_type": "markdown",
      "metadata": {
        "id": "f5-Zhi2c6y3K"
      },
      "source": [
        "###**TECHNIQUE 3 - EROSION** - This technique is not working properly with this class of images."
      ]
    },
    {
      "cell_type": "code",
      "metadata": {
        "id": "TZxeY9GD4bzJ"
      },
      "source": [
        "for x in range(4):\n",
        "  img2_new = cv2.imread('/content/gdrive/My Drive/CA3 Images/Class 2/Class2ImgROI' + str(x+1) + '.jpg', cv2.IMREAD_UNCHANGED)\n",
        "  img_gray = cv2.cvtColor(img2_new,cv2.COLOR_BGR2GRAY)\n",
        "  kernel = np.ones((1,2),np.uint8)\n",
        "  img_eros = cv2.erode(img_gray,kernel,iterations = 1)\n",
        "  h, w = img_eros.shape\n",
        "  boxes = pytesseract.image_to_boxes(img_eros) \n",
        "  for b in boxes.splitlines():\n",
        "      b = b.split(' ')\n",
        "      img2_new = cv2.rectangle(img_eros, (int(b[1]), h - int(b[2])), (int(b[3]), h - int(b[4])), (125, 20, 50), 2)\n",
        "\n",
        "  cv2.imwrite('/content/gdrive/My Drive/CA3 Images/Class 2/Class2Eros' + str(x+1) +'.jpg', img2_new)"
      ],
      "execution_count": 143,
      "outputs": []
    },
    {
      "cell_type": "code",
      "metadata": {
        "id": "rLcwPujb7nKW"
      },
      "source": [
        "#Taking an image file and converting it into text form to compare with another text file.\n",
        "pytesseract.pytesseract.tesseract_cmd = r'/usr/bin/tesseract'\n",
        "text = str(((pytesseract.image_to_string(Image.open(\"/content/gdrive/My Drive/CA3 Images/Class 2/Class2Eros3\" + \".jpg\"), lang='eng')))) \n",
        "text = text.replace('-\\n', '')\t \n",
        " \n",
        "with open(\"/content/gdrive/My Drive/CA3 Images/Class 2/Class2Eros3.txt\", 'a') as writefile:\n",
        "  writefile.write(text + \"\\n\")"
      ],
      "execution_count": 144,
      "outputs": []
    },
    {
      "cell_type": "code",
      "metadata": {
        "colab": {
          "base_uri": "https://localhost:8080/"
        },
        "id": "TYa4do-c7m1R",
        "outputId": "2cb6c48f-aff1-4b46-c35a-09dcd6bae533"
      },
      "source": [
        "from difflib import SequenceMatcher\n",
        "text1 = open(\"/content/gdrive/My Drive/CA3 Images/Class 2/Class2Eros3.txt\").read()\n",
        "text2 = open(\"/content/gdrive/My Drive/CA3 Images/Class 2/Class2Txt3.txt\").read()\n",
        "m = SequenceMatcher(None, text1, text2)\n",
        "m.ratio()"
      ],
      "execution_count": 145,
      "outputs": [
        {
          "output_type": "execute_result",
          "data": {
            "text/plain": [
              "0.0192102454642476"
            ]
          },
          "metadata": {
            "tags": []
          },
          "execution_count": 145
        }
      ]
    },
    {
      "cell_type": "markdown",
      "metadata": {
        "id": "pVwqEL3l8TNY"
      },
      "source": [
        "###**TECHNIQUE 4 - CONTOUR DETECTION**"
      ]
    },
    {
      "cell_type": "code",
      "metadata": {
        "id": "2fcuBmM83Vh1"
      },
      "source": [
        "for x in range(4):\n",
        "  img2 = cv2.imread('/content/gdrive/My Drive/CA3 Images/Class 2/Class2ImgROI' + str(x+1) +'.jpg', cv2.IMREAD_UNCHANGED)\n",
        "\n",
        "  img_gray = cv2.cvtColor(img2,cv2.COLOR_BGR2GRAY)\n",
        "  img_thresh = cv2.threshold(img_gray, 30, 255, cv2.THRESH_BINARY_INV + cv2.THRESH_OTSU)[1]\n",
        "\n",
        "  #Detect the contours on the binary image \n",
        "  contours, hierarchy = cv2.findContours(image=img_thresh, mode=cv2.RETR_TREE, method=cv2.CHAIN_APPROX_NONE)\n",
        "                                     \n",
        "  #Draw contours on the original image\n",
        "  img2_copy = img2.copy()\n",
        "  cv2.drawContours(image=img2_copy, contours=contours, contourIdx=-1, color=(0, 255, 255), thickness=5, lineType=cv2.LINE_AA)\n",
        "\n",
        "  h, w, c = img2_copy.shape\n",
        "  boxes = pytesseract.image_to_boxes(img2_copy) \n",
        "  for b in boxes.splitlines():\n",
        "      b = b.split(' ')\n",
        "      img2_copy = cv2.rectangle(img2_copy, (int(b[1]), h - int(b[2])), (int(b[3]), h - int(b[4])), (0, 255, 0), 2)\n",
        "\n",
        "  cv2.imwrite('/content/gdrive/My Drive/CA3 Images/Class 2/Class2Cont' + str(x+1) +'.jpg', img2_copy)"
      ],
      "execution_count": 7,
      "outputs": []
    },
    {
      "cell_type": "code",
      "metadata": {
        "id": "q_uO21fw8RLp"
      },
      "source": [
        "#Taking an image file and converting it into text form to compare with another text file.\n",
        "pytesseract.pytesseract.tesseract_cmd = r'/usr/bin/tesseract'\n",
        "text = str(((pytesseract.image_to_string(Image.open(\"/content/gdrive/My Drive/CA3 Images/Class 2/Class2Cont2\" + \".jpg\"), lang='eng')))) \n",
        "text = text.replace('-\\n', '')\t \n",
        " \n",
        "with open(\"/content/gdrive/My Drive/CA3 Images/Class 2/Class2Cont2.txt\", 'a') as writefile:\n",
        "  writefile.write(text + \"\\n\")"
      ],
      "execution_count": 212,
      "outputs": []
    },
    {
      "cell_type": "code",
      "metadata": {
        "colab": {
          "base_uri": "https://localhost:8080/"
        },
        "id": "V1KqQxJC8R_X",
        "outputId": "ec08ca18-d356-480c-ce4f-a72e170eebac"
      },
      "source": [
        "from difflib import SequenceMatcher\n",
        "text1 = open(\"/content/gdrive/My Drive/CA3 Images/Class 2/Class2Cont2.txt\").read()\n",
        "text2 = open(\"/content/gdrive/My Drive/CA3 Images/Class 2/Class2Txt2.txt\").read()\n",
        "m = SequenceMatcher(None, text1, text2)\n",
        "m.ratio()"
      ],
      "execution_count": 218,
      "outputs": [
        {
          "output_type": "execute_result",
          "data": {
            "text/plain": [
              "0.01015228426395939"
            ]
          },
          "metadata": {
            "tags": []
          },
          "execution_count": 218
        }
      ]
    },
    {
      "cell_type": "markdown",
      "metadata": {
        "id": "lBUKRsMv-vuk"
      },
      "source": [
        "###**TECHNIQUE 5 - GAUSSIAN BLUR**"
      ]
    },
    {
      "cell_type": "code",
      "metadata": {
        "id": "Qssd6FA0-wKV"
      },
      "source": [
        "#GAUSSIAN BLUR\n",
        "for x in range(4):\n",
        "  img2 = cv2.imread('/content/gdrive/My Drive/CA3 Images/Class 2/Class2ImgROI' + str(x+1) + '.jpg')\n",
        "  img_gray = cv2.cvtColor(img2,cv2.COLOR_BGR2GRAY)\n",
        "  img_thresh = cv2.threshold(img_gray, 20, 255, cv2.THRESH_BINARY_INV + cv2.THRESH_OTSU)[1]\n",
        "  img2 = cv2.GaussianBlur(img_thresh, (7, 5), 6)     #Remove the noise in image\n",
        "  h, w = img2.shape\n",
        "  boxes = pytesseract.image_to_boxes(img2) \n",
        "  for b in boxes.splitlines():\n",
        "      b = b.split(' ')\n",
        "      img2 = cv2.rectangle(img2, (int(b[1]), h - int(b[2])), (int(b[3]), h - int(b[4])), (255, 0, 0), 2)\n",
        "  cv2.imwrite('/content/gdrive/My Drive/CA3 Images/Class 2/Class2Gaus' + str(x+1) + '.jpg', img2)"
      ],
      "execution_count": null,
      "outputs": []
    },
    {
      "cell_type": "code",
      "metadata": {
        "id": "zbh5xrVw-wnt"
      },
      "source": [
        "#Taking an image file and converting it into text form to compare with another text file.\n",
        "pytesseract.pytesseract.tesseract_cmd = r'/usr/bin/tesseract'\n",
        "text = str(((pytesseract.image_to_string(Image.open(\"/content/gdrive/My Drive/CA3 Images/Class 2/Class2Gaus3\" + \".jpg\"), lang='eng')))) \n",
        "text = text.replace('-\\n', '')\t \n",
        " \n",
        "with open(\"/content/gdrive/My Drive/CA3 Images/Class 2/Class2Gaus3.txt\", 'a') as writefile:\n",
        "  writefile.write(text + \"\\n\")"
      ],
      "execution_count": 219,
      "outputs": []
    },
    {
      "cell_type": "code",
      "metadata": {
        "colab": {
          "base_uri": "https://localhost:8080/"
        },
        "id": "g3_PsWD0-xIO",
        "outputId": "f8ab224f-34fa-494a-fda3-533d5038d54f"
      },
      "source": [
        "from difflib import SequenceMatcher\n",
        "text1 = open(\"/content/gdrive/My Drive/CA3 Images/Class 2/Class2Gaus3.txt\").read()\n",
        "text2 = open(\"/content/gdrive/My Drive/CA3 Images/Class 2/Class2Txt3.txt\").read()\n",
        "m = SequenceMatcher(None, text1, text2)\n",
        "m.ratio()"
      ],
      "execution_count": 220,
      "outputs": [
        {
          "output_type": "execute_result",
          "data": {
            "text/plain": [
              "0.05417118093174431"
            ]
          },
          "metadata": {
            "tags": []
          },
          "execution_count": 220
        }
      ]
    },
    {
      "cell_type": "markdown",
      "metadata": {
        "id": "rBSYZZzH_xxS"
      },
      "source": [
        "###**TECHNIQUE 6a - EDGE DETECTION - CANNY**"
      ]
    },
    {
      "cell_type": "code",
      "metadata": {
        "id": "76O7DppY_yaS"
      },
      "source": [
        "#Edge Detection\n",
        "for x in range(4):\n",
        "  img2 = cv2.imread('/content/gdrive/My Drive/CA3 Images/Class 2/Class2ImgROI' + str(x+1) + '.jpg')\n",
        "  img_gray = cv2.cvtColor(img2, cv2.COLOR_BGR2GRAY)\n",
        "  img_thresh = cv2.threshold(img_gray, 10, 205, cv2.THRESH_BINARY_INV + cv2.THRESH_OTSU)[1]\n",
        "\n",
        "  #Perform the canny edge technique to detect text edges\n",
        "  edges = cv2.Canny(img_thresh, threshold1=250, threshold2=250) #The value of threshold can be changed to get different results\n",
        "  h, w = edges.shape\n",
        "  boxes = pytesseract.image_to_boxes(edges) \n",
        "  for b in boxes.splitlines():\n",
        "      b = b.split(' ')\n",
        "      edges = cv2.rectangle(edges, (int(b[1]), h - int(b[2])), (int(b[3]), h - int(b[4])), (0, 255, 255), 2)\n",
        "\n",
        "  cv2.imwrite('/content/gdrive/My Drive/CA3 Images/Class 2/Class2Cann' + str(x+1) + '.jpg', edges)"
      ],
      "execution_count": 16,
      "outputs": []
    },
    {
      "cell_type": "code",
      "metadata": {
        "id": "1HqFUmZI_zNY"
      },
      "source": [
        "#Taking an image file and converting it into text form to compare with another text file.\n",
        "pytesseract.pytesseract.tesseract_cmd = r'/usr/bin/tesseract'\n",
        "text = str(((pytesseract.image_to_string(Image.open(\"/content/gdrive/My Drive/CA3 Images/Class 2/Class2Cann1\" + \".jpg\"), lang='eng')))) \n",
        "text = text.replace('-\\n', '')\t \n",
        " \n",
        "with open(\"/content/gdrive/My Drive/CA3 Images/Class 2/Class2Cann1.txt\", 'a') as writefile:\n",
        "  writefile.write(text + \"\\n\")"
      ],
      "execution_count": 17,
      "outputs": []
    },
    {
      "cell_type": "code",
      "metadata": {
        "colab": {
          "base_uri": "https://localhost:8080/"
        },
        "id": "U7gbtTFq_z-T",
        "outputId": "8a1ad3d0-d27a-47dd-ea8e-d7f74f23d0c5"
      },
      "source": [
        "from difflib import SequenceMatcher\n",
        "text1 = open(\"/content/gdrive/My Drive/CA3 Images/Class 2/Class2Cann1.txt\").read()\n",
        "text2 = open(\"/content/gdrive/My Drive/CA3 Images/Class 2/Class2Txt1.txt\").read()\n",
        "m = SequenceMatcher(None, text1, text2)\n",
        "m.ratio()"
      ],
      "execution_count": 18,
      "outputs": [
        {
          "output_type": "execute_result",
          "data": {
            "text/plain": [
              "0.01001948232674645"
            ]
          },
          "metadata": {
            "tags": []
          },
          "execution_count": 18
        }
      ]
    },
    {
      "cell_type": "markdown",
      "metadata": {
        "id": "ic9yC8qVAtWG"
      },
      "source": [
        "###**TECHNIQUE 6b - EDGE DETECTION - LAPLACIAN**"
      ]
    },
    {
      "cell_type": "code",
      "metadata": {
        "id": "glwCOzMIAt03"
      },
      "source": [
        "for x in range(4):\n",
        "  img2 = cv2.imread('/content/gdrive/My Drive/CA3 Images/Class 2/Class2ImgROI' + str(x+1) + '.jpg', cv2.IMREAD_COLOR) # Load an image\n",
        "  img_gb = cv2.GaussianBlur(img2, (0, 0), 5)\n",
        "  img_gray = cv2.cvtColor(img_gb, cv2.COLOR_BGR2GRAY)\n",
        "  img_lp = cv2.Laplacian(img_gray, cv2.CV_8U, -2)\n",
        "#abs_dst = cv2.convertScaleAbs(dst)\n",
        "\n",
        "  cv2.imwrite('/content/gdrive/My Drive/CA3 Images/Class 2/Class2LP' + str(x+1) + '.jpg', img_lp)"
      ],
      "execution_count": 28,
      "outputs": []
    },
    {
      "cell_type": "code",
      "metadata": {
        "id": "oehlx_D6Aunk"
      },
      "source": [
        "#Taking an image file and converting it into text form to compare with another text file.\n",
        "pytesseract.pytesseract.tesseract_cmd = r'/usr/bin/tesseract'\n",
        "text = str(((pytesseract.image_to_string(Image.open(\"/content/gdrive/My Drive/CA3 Images/Class 2/Class2LP4\" + \".jpg\"), lang='eng')))) \n",
        "text = text.replace('-\\n', '')\t \n",
        " \n",
        "with open(\"/content/gdrive/My Drive/CA3 Images/Class 2/Class2LP4.txt\", 'a') as writefile:\n",
        "  writefile.write(text + \"\\n\")"
      ],
      "execution_count": 29,
      "outputs": []
    },
    {
      "cell_type": "code",
      "metadata": {
        "colab": {
          "base_uri": "https://localhost:8080/"
        },
        "id": "kooVPfEkAu-7",
        "outputId": "bf3d263f-677a-48e4-b2bc-41a94a782011"
      },
      "source": [
        "from difflib import SequenceMatcher\n",
        "text1 = open(\"/content/gdrive/My Drive/CA3 Images/Class 2/Class2LP4.txt\").read()\n",
        "text2 = open(\"/content/gdrive/My Drive/CA3 Images/Class 2/Class2Txt4.txt\").read()\n",
        "m = SequenceMatcher(None, text1, text2)\n",
        "m.ratio()"
      ],
      "execution_count": 30,
      "outputs": [
        {
          "output_type": "execute_result",
          "data": {
            "text/plain": [
              "0.010092514718250631"
            ]
          },
          "metadata": {
            "tags": []
          },
          "execution_count": 30
        }
      ]
    },
    {
      "cell_type": "markdown",
      "metadata": {
        "id": "BUZpZsxVOtqa"
      },
      "source": [
        "###**TECHNIQUE 6c - EDGE DETECTION - SOBEL**"
      ]
    },
    {
      "cell_type": "code",
      "metadata": {
        "id": "xI3LmJIuJAzP"
      },
      "source": [
        "for x in range(4):\n",
        "    img2 = cv2.imread('/content/gdrive/My Drive/CA3 Images/Class 2/Class2ImgROI' + str(x+1) + '.jpg', cv2.IMREAD_COLOR)\n",
        "    blur = cv2.GaussianBlur(img2, (3, 3), 0)\n",
        "    img2_gray = cv2.cvtColor(blur, cv2.COLOR_BGR2GRAY)\n",
        "    gx = cv2.Sobel(img2_gray, ddepth = cv2.CV_16S, dx =1, dy = 0, ksize=3, borderType=cv2.BORDER_DEFAULT)\n",
        "    gy = cv2.Sobel(img2_gray, ddepth = cv2.CV_16S, dx =0, dy = 1, ksize=3, borderType=cv2.BORDER_DEFAULT)\n",
        "    abs_x = cv2.convertScaleAbs(gx)\n",
        "    abs_y = cv2.convertScaleAbs(gy)\n",
        "\n",
        "    sobel = cv2.addWeighted(abs_x, 0.5, abs_y, 0.5, 2)\n",
        "\n",
        "    cv2.imwrite('/content/gdrive/My Drive/CA3 Images/Class 2/Class2Sobl' + str(x+1) + '.jpg', sobel)"
      ],
      "execution_count": 183,
      "outputs": []
    },
    {
      "cell_type": "code",
      "metadata": {
        "id": "orOQSp06NSQl"
      },
      "source": [
        "#Taking an image file and converting it into text form to compare with ground text file.\n",
        "pytesseract.pytesseract.tesseract_cmd = r'/usr/bin/tesseract'\n",
        "text = str(((pytesseract.image_to_string(Image.open(\"/content/gdrive/My Drive/CA3 Images/Class 2/Class2Sobl3\" + \".jpg\"), lang='eng')))) \n",
        "text = text.replace('-\\n', '')\t \n",
        " \n",
        "with open(\"/content/gdrive/My Drive/CA3 Images/Class 2/Class2Sobl3.txt\", 'a') as writefile:\n",
        "  writefile.write(text + \"\\n\")"
      ],
      "execution_count": 186,
      "outputs": []
    },
    {
      "cell_type": "code",
      "metadata": {
        "colab": {
          "base_uri": "https://localhost:8080/"
        },
        "id": "6wqUAu7nNU0n",
        "outputId": "60a0cd33-fd50-4001-bd3f-9345eeefa430"
      },
      "source": [
        "from difflib import SequenceMatcher\n",
        "text1 = open(\"/content/gdrive/My Drive/CA3 Images/Class 2/Class2Sobl3.txt\").read()\n",
        "text2 = open(\"/content/gdrive/My Drive/CA3 Images/Class 2/Class2Txt3.txt\").read()\n",
        "m = SequenceMatcher(None, text1, text2)\n",
        "m.ratio()"
      ],
      "execution_count": 187,
      "outputs": [
        {
          "output_type": "execute_result",
          "data": {
            "text/plain": [
              "0.07837837837837838"
            ]
          },
          "metadata": {
            "tags": []
          },
          "execution_count": 187
        }
      ]
    },
    {
      "cell_type": "markdown",
      "metadata": {
        "id": "jvUtbFccfVx9"
      },
      "source": [
        "# **CLASS 3**\n",
        "\n",
        "### This code block consists of 24 different images. So, the numbers should vary between 1-24 for text comparison."
      ]
    },
    {
      "cell_type": "markdown",
      "metadata": {
        "id": "i3xC6baAgYvO"
      },
      "source": [
        "## *The below code block will take some time as it has to convert 24 PDF files to images.*"
      ]
    },
    {
      "cell_type": "code",
      "metadata": {
        "colab": {
          "base_uri": "https://localhost:8080/"
        },
        "id": "km-rchwhfVXN",
        "outputId": "2b513889-cd78-4bef-c1ec-360eaca7828e"
      },
      "source": [
        "from google.colab import drive\n",
        "drive.mount('/content/gdrive')\n",
        "\n",
        "for x in range(24):\n",
        "  PDF_file = (\"/content/gdrive/My Drive/CA3 Images/Class 3/Class3Pdf\" + str(x+1) + \".pdf\")\n",
        "  pages = convert_from_path(PDF_file, 500, single_file=True)\n",
        "  pages[0].save(\"/content/gdrive/My Drive/CA3 Images/Class 3/Class3Img\" + str(x+1), 'JPEG')"
      ],
      "execution_count": null,
      "outputs": [
        {
          "output_type": "stream",
          "text": [
            "Drive already mounted at /content/gdrive; to attempt to forcibly remount, call drive.mount(\"/content/gdrive\", force_remount=True).\n"
          ],
          "name": "stdout"
        }
      ]
    },
    {
      "cell_type": "code",
      "metadata": {
        "id": "j82UzXfUfzcB"
      },
      "source": [
        "for x in range(24):\n",
        "  img3 = cv2.imread('/content/gdrive/My Drive/CA3 Images/Class 3/Class3Img' + str(x+1), cv2.IMREAD_UNCHANGED)\n",
        "\n",
        "  #Extracting \"Bill of Materials\" for Class 3\n",
        "  roi3 = img3[0:img3.shape[0]-1200,5300:img3.shape[1]-100]  #Coordinates have changed from previous two classes\n",
        "\n",
        "  #Saving ROI for Class 3\n",
        "  cv2.imwrite('/content/gdrive/My Drive/CA3 Images/Class 3/Class3ImgROI' + str(x+1) + '.jpg', roi3)"
      ],
      "execution_count": null,
      "outputs": []
    },
    {
      "cell_type": "markdown",
      "metadata": {
        "id": "tQoqD0m7HDOL"
      },
      "source": [
        "###**TECHNIQUE 1 - NO GRAYSCALING**"
      ]
    },
    {
      "cell_type": "code",
      "metadata": {
        "id": "MQc7WXqvHD3D"
      },
      "source": [
        "for x in range(24):\n",
        "  img3_new = cv2.imread('/content/gdrive/My Drive/CA3 Images/Class 3/Class3ImgROI' + str(x+1) + '.jpg')\n",
        "\n",
        "  #Adding custom options\n",
        "  custom_config = r'--oem 3 --psm 6'\n",
        "\n",
        "  h, w, c = img3_new.shape\n",
        "  boxes = pytesseract.image_to_boxes(img3_new) \n",
        "  for b in boxes.splitlines():\n",
        "      b = b.split(' ')\n",
        "      img1_new = cv2.rectangle(img1_new, (int(b[1]), h - int(b[2])), (int(b[3]), h - int(b[4])), (255, 0, 255), 2) #OpenCV is in Blue, Green, Red format.\n",
        "\n",
        "  cv2.imwrite('/content/gdrive/My Drive/CA3 Images/Class 3/Class3NGB' + str(x+1) + '.jpg', img3_new)\n",
        "  \n",
        "  #cv2_imshow(img3_new) -> I have commented this line as this will only give output of the last image processed."
      ],
      "execution_count": 41,
      "outputs": []
    },
    {
      "cell_type": "code",
      "metadata": {
        "id": "cKWtHt4aHwF7"
      },
      "source": [
        "#Taking an image file and converting it into text form to compare with another text file.\n",
        "pytesseract.pytesseract.tesseract_cmd = r'/usr/bin/tesseract'\n",
        "text = str(((pytesseract.image_to_string(Image.open(\"/content/gdrive/My Drive/CA3 Images/Class 3/Class3NGB4\" + \".jpg\"), lang='eng')))) \n",
        "text = text.replace('-\\n', '')\t \n",
        " \n",
        "with open(\"/content/gdrive/My Drive/CA3 Images/Class 3/Class3NGB4.txt\", 'a') as writefile:\n",
        "  writefile.write(text + \"\\n\")"
      ],
      "execution_count": 42,
      "outputs": []
    },
    {
      "cell_type": "code",
      "metadata": {
        "colab": {
          "base_uri": "https://localhost:8080/"
        },
        "id": "z7P9qMnTH5Ni",
        "outputId": "2f5e7552-2f04-4a5a-f2de-bfdb30b789d1"
      },
      "source": [
        "from difflib import SequenceMatcher\n",
        "text1 = open(\"/content/gdrive/My Drive/CA3 Images/Class 3/Class3NGB4.txt\").read()\n",
        "text2 = open(\"/content/gdrive/My Drive/CA3 Images/Class 3/Class3Txt4.txt\").read()\n",
        "m = SequenceMatcher(None, text1, text2)\n",
        "m.ratio()"
      ],
      "execution_count": 43,
      "outputs": [
        {
          "output_type": "execute_result",
          "data": {
            "text/plain": [
              "0.3168384879725086"
            ]
          },
          "metadata": {
            "tags": []
          },
          "execution_count": 43
        }
      ]
    },
    {
      "cell_type": "markdown",
      "metadata": {
        "id": "rp7KYQlbISeb"
      },
      "source": [
        "###**TECHNIQUE 2 - GRAYSCALING AND THRESHOLDING**"
      ]
    },
    {
      "cell_type": "code",
      "metadata": {
        "id": "kTtvZyGBITEL"
      },
      "source": [
        "for x in range(24):\n",
        "  img3_new = cv2.imread('/content/gdrive/My Drive/CA3 Images/Class 3/Class3ImgROI' + str(x+1) + '.jpg')\n",
        "  img3grayscale_new = cv2.cvtColor(img3_new,cv2.COLOR_BGR2GRAY)\n",
        "  img3_thresh = cv2.adaptiveThreshold(img3grayscale_new,255,cv2.ADAPTIVE_THRESH_GAUSSIAN_C,cv2.THRESH_BINARY,11,4)\n",
        "\n",
        "  h, w = img3_thresh.shape\n",
        "  boxes = pytesseract.image_to_boxes(img3_thresh) \n",
        "  for b in boxes.splitlines():\n",
        "      b = b.split(' ')\n",
        "      img3_new = cv2.rectangle(img3_thresh, (int(b[1]), h - int(b[2])), (int(b[3]), h - int(b[4])), (255, 0, 0), 2) #OpenCV is in Blue, Green, Red format.\n",
        "\n",
        "  cv2.imwrite('/content/gdrive/My Drive/CA3 Images/Class 3/Class3Gray' + str(x+1) + '.jpg', img3_new)"
      ],
      "execution_count": 44,
      "outputs": []
    },
    {
      "cell_type": "code",
      "metadata": {
        "id": "xfXL3bt3ITco"
      },
      "source": [
        "#Taking an image file and converting it into text form to compare with another text file.\n",
        "pytesseract.pytesseract.tesseract_cmd = r'/usr/bin/tesseract'\n",
        "text = str(((pytesseract.image_to_string(Image.open(\"/content/gdrive/My Drive/CA3 Images/Class 3/Class3Gray13\" + \".jpg\"), lang='eng')))) \n",
        "text = text.replace('-\\n', '')\t \n",
        " \n",
        "with open(\"/content/gdrive/My Drive/CA3 Images/Class 3/Class3Gray13.txt\", 'a') as writefile:\n",
        "  writefile.write(text + \"\\n\")"
      ],
      "execution_count": 45,
      "outputs": []
    },
    {
      "cell_type": "code",
      "metadata": {
        "colab": {
          "base_uri": "https://localhost:8080/"
        },
        "id": "i71kSlEGIUAo",
        "outputId": "e16bb6e3-e815-4bb3-fc0d-8947ba330ab9"
      },
      "source": [
        "from difflib import SequenceMatcher\n",
        "text1 = open(\"/content/gdrive/My Drive/CA3 Images/Class 3/Class3Gray13.txt\").read()\n",
        "text2 = open(\"/content/gdrive/My Drive/CA3 Images/Class 3/Class3Txt13.txt\").read()\n",
        "m = SequenceMatcher(None, text1, text2)\n",
        "m.ratio()"
      ],
      "execution_count": 46,
      "outputs": [
        {
          "output_type": "execute_result",
          "data": {
            "text/plain": [
              "0.175"
            ]
          },
          "metadata": {
            "tags": []
          },
          "execution_count": 46
        }
      ]
    },
    {
      "cell_type": "markdown",
      "metadata": {
        "id": "wiug_cHtI5Zq"
      },
      "source": [
        "###**TECHNIQUE 3 - EROSION**"
      ]
    },
    {
      "cell_type": "code",
      "metadata": {
        "id": "LfvTRvdmI-09"
      },
      "source": [
        "for x in range(24):\n",
        "  img3_new = cv2.imread('/content/gdrive/My Drive/CA3 Images/Class 3/Class3ImgROI' + str(x+1) + '.jpg', cv2.IMREAD_COLOR)\n",
        "  img_gray = cv2.cvtColor(img3_new, cv2.COLOR_BGR2GRAY)\n",
        "  kernel = np.ones((1,2),np.uint8)\n",
        "  img_eros = cv2.erode(img_gray,kernel,iterations = 4)\n",
        "  h, w = img_eros.shape\n",
        "  boxes = pytesseract.image_to_boxes(img_eros) \n",
        "  for b in boxes.splitlines():\n",
        "      b = b.split(' ')\n",
        "      img3_new = cv2.rectangle(img_eros, (int(b[1]), h - int(b[2])), (int(b[3]), h - int(b[4])), (150, 0, 100), 2)\n",
        "\n",
        "  cv2.imwrite('/content/gdrive/My Drive/CA3 Images/Class 3/Class3Eros' + str(x+1) +'.jpg', img3_new)"
      ],
      "execution_count": 139,
      "outputs": []
    },
    {
      "cell_type": "code",
      "metadata": {
        "id": "k1YxQibBI_Sp"
      },
      "source": [
        "#Taking an image file and converting it into text form to compare with another text file.\n",
        "pytesseract.pytesseract.tesseract_cmd = r'/usr/bin/tesseract'\n",
        "text = str(((pytesseract.image_to_string(Image.open(\"/content/gdrive/My Drive/CA3 Images/Class 3/Class3Eros17\" + \".jpg\"), lang='eng')))) \n",
        "text = text.replace('-\\n', '')\t \n",
        " \n",
        "with open(\"/content/gdrive/My Drive/CA3 Images/Class 3/Class3Eros17.txt\", 'a') as writefile:\n",
        "  writefile.write(text + \"\\n\")"
      ],
      "execution_count": 140,
      "outputs": []
    },
    {
      "cell_type": "code",
      "metadata": {
        "colab": {
          "base_uri": "https://localhost:8080/"
        },
        "id": "beoz-qJ0I_Dt",
        "outputId": "7c456711-2a8e-4f32-ed66-7c415643c5f3"
      },
      "source": [
        "from difflib import SequenceMatcher\n",
        "text1 = open(\"/content/gdrive/My Drive/CA3 Images/Class 3/Class3Eros17.txt\").read()\n",
        "text2 = open(\"/content/gdrive/My Drive/CA3 Images/Class 3/Class3Txt4.txt\").read()\n",
        "m = SequenceMatcher(None, text1, text2)\n",
        "m.ratio()"
      ],
      "execution_count": 141,
      "outputs": [
        {
          "output_type": "execute_result",
          "data": {
            "text/plain": [
              "0.011446409989594173"
            ]
          },
          "metadata": {
            "tags": []
          },
          "execution_count": 141
        }
      ]
    },
    {
      "cell_type": "markdown",
      "metadata": {
        "id": "xkmtbK4_JcwD"
      },
      "source": [
        "###**TECHNIQUE 4 - CONTOUR DETECTION**"
      ]
    },
    {
      "cell_type": "code",
      "metadata": {
        "id": "w6mHWZAhJdSt"
      },
      "source": [
        "for x in range(24):\n",
        "  img3 = cv2.imread('/content/gdrive/My Drive/CA3 Images/Class 3/Class3ImgROI' + str(x+1) +'.jpg', cv2.IMREAD_COLOR)\n",
        "\n",
        "  img_gray = cv2.cvtColor(img3,cv2.COLOR_BGR2GRAY)\n",
        "  img_thresh = cv2.threshold(img_gray, 30, 255, cv2.THRESH_BINARY_INV + cv2.THRESH_OTSU)[1]\n",
        "\n",
        "  #Detect the contours on the binary image \n",
        "  contours, hierarchy = cv2.findContours(image=img_thresh, mode=cv2.RETR_TREE, method=cv2.CHAIN_APPROX_NONE)\n",
        "                                     \n",
        "  #Draw contours on the original image\n",
        "  img3_copy = img3.copy()\n",
        "  cv2.drawContours(image=img3_copy, contours=contours, contourIdx=-1, color=(0, 0, 255), thickness=2, lineType=cv2.LINE_AA)\n",
        "\n",
        "  h, w, c = img3_copy.shape\n",
        "  boxes = pytesseract.image_to_boxes(img3_copy) \n",
        "  for b in boxes.splitlines():\n",
        "      b = b.split(' ')\n",
        "      img3_copy = cv2.rectangle(img3_copy, (int(b[1]), h - int(b[2])), (int(b[3]), h - int(b[4])), (0, 255, 255), 2)\n",
        "\n",
        "  cv2.imwrite('/content/gdrive/My Drive/CA3 Images/Class 3/Class3Cont' + str(x+1) +'.jpg', img3_copy)"
      ],
      "execution_count": 63,
      "outputs": []
    },
    {
      "cell_type": "code",
      "metadata": {
        "id": "OmO2KE1QJd51"
      },
      "source": [
        "#Taking an image file and converting it into text form to compare with another text file.\n",
        "pytesseract.pytesseract.tesseract_cmd = r'/usr/bin/tesseract'\n",
        "text = str(((pytesseract.image_to_string(Image.open(\"/content/gdrive/My Drive/CA3 Images/Class 3/Class3Cont19\" + \".jpg\"), lang='eng')))) \n",
        "text = text.replace('-\\n', '')\t \n",
        " \n",
        "with open(\"/content/gdrive/My Drive/CA3 Images/Class 3/Class3Cont19.txt\", 'a') as writefile:\n",
        "  writefile.write(text + \"\\n\")"
      ],
      "execution_count": 64,
      "outputs": []
    },
    {
      "cell_type": "code",
      "metadata": {
        "colab": {
          "base_uri": "https://localhost:8080/"
        },
        "id": "pFyrgiriJeT4",
        "outputId": "9ddad043-1abf-48d2-f218-f50ff21db140"
      },
      "source": [
        "from difflib import SequenceMatcher\n",
        "text1 = open(\"/content/gdrive/My Drive/CA3 Images/Class 3/Class3Cont19.txt\").read()\n",
        "text2 = open(\"/content/gdrive/My Drive/CA3 Images/Class 3/Class3Txt4.txt\").read()\n",
        "m = SequenceMatcher(None, text1, text2)\n",
        "m.ratio()"
      ],
      "execution_count": 65,
      "outputs": [
        {
          "output_type": "execute_result",
          "data": {
            "text/plain": [
              "0.03737259343148358"
            ]
          },
          "metadata": {
            "tags": []
          },
          "execution_count": 65
        }
      ]
    },
    {
      "cell_type": "markdown",
      "metadata": {
        "id": "jXP71-VWX28J"
      },
      "source": [
        "###**TECHNIQUE 5 - GAUSSIAN BLUR**"
      ]
    },
    {
      "cell_type": "code",
      "metadata": {
        "id": "ubNaLn4lX3eB"
      },
      "source": [
        "#GAUSSIAN BLUR\n",
        "for x in range(24):\n",
        "  img3 = cv2.imread('/content/gdrive/My Drive/CA3 Images/Class 3/Class3ImgROI' + str(x+1) + '.jpg')\n",
        "  img_gray = cv2.cvtColor(img3,cv2.COLOR_BGR2GRAY)\n",
        "  img_thresh = cv2.threshold(img_gray, 20, 255, cv2.THRESH_BINARY_INV + cv2.THRESH_OTSU)[1]\n",
        "  img3 = cv2.GaussianBlur(img_thresh, (7, 5), 6)     #Remove the noise in image\n",
        "  h, w = img3.shape\n",
        "  boxes = pytesseract.image_to_boxes(img3) \n",
        "  for b in boxes.splitlines():\n",
        "      b = b.split(' ')\n",
        "      img3 = cv2.rectangle(img3, (int(b[1]), h - int(b[2])), (int(b[3]), h - int(b[4])), (255, 0, 0), 2)\n",
        "  cv2.imwrite('/content/gdrive/My Drive/CA3 Images/Class 3/Class3Gaus' + str(x+1) + '.jpg', img3)"
      ],
      "execution_count": 68,
      "outputs": []
    },
    {
      "cell_type": "code",
      "metadata": {
        "id": "MTrLXEHlX3wt"
      },
      "source": [
        "#Taking an image file and converting it into text form to compare with another text file.\n",
        "pytesseract.pytesseract.tesseract_cmd = r'/usr/bin/tesseract'\n",
        "text = str(((pytesseract.image_to_string(Image.open(\"/content/gdrive/My Drive/CA3 Images/Class 3/Class3Gaus13\" + \".jpg\"), lang='eng')))) \n",
        "text = text.replace('-\\n', '')\t \n",
        " \n",
        "with open(\"/content/gdrive/My Drive/CA3 Images/Class 3/Class3Gaus13.txt\", 'a') as writefile:\n",
        "  writefile.write(text + \"\\n\")"
      ],
      "execution_count": 69,
      "outputs": []
    },
    {
      "cell_type": "code",
      "metadata": {
        "colab": {
          "base_uri": "https://localhost:8080/"
        },
        "id": "AGz_NhzGX4Ja",
        "outputId": "4e668a6f-f4e5-4279-f338-0b82c2c4c191"
      },
      "source": [
        "from difflib import SequenceMatcher\n",
        "text1 = open(\"/content/gdrive/My Drive/CA3 Images/Class 3/Class3Gaus13.txt\").read()\n",
        "text2 = open(\"/content/gdrive/My Drive/CA3 Images/Class 3/Class3Txt13.txt\").read()\n",
        "m = SequenceMatcher(None, text1, text2)\n",
        "m.ratio()"
      ],
      "execution_count": 70,
      "outputs": [
        {
          "output_type": "execute_result",
          "data": {
            "text/plain": [
              "0.06598586017282011"
            ]
          },
          "metadata": {
            "tags": []
          },
          "execution_count": 70
        }
      ]
    },
    {
      "cell_type": "markdown",
      "metadata": {
        "id": "CbrntswYYl7l"
      },
      "source": [
        "###**TECHNIQUE 6 - EDGE DETECTION - CANNY**"
      ]
    },
    {
      "cell_type": "code",
      "metadata": {
        "id": "W1Uxezl6YmbZ"
      },
      "source": [
        "#Edge Detection\n",
        "for x in range(24):\n",
        "  img3 = cv2.imread('/content/gdrive/My Drive/CA3 Images/Class 3/Class3ImgROI' + str(x+1) + '.jpg')\n",
        "  img_gray = cv2.cvtColor(img3, cv2.COLOR_BGR2GRAY)\n",
        "  img_thresh = cv2.threshold(img_gray, 10, 205, cv2.THRESH_BINARY_INV + cv2.THRESH_OTSU)[1]\n",
        "\n",
        "  #Perform the canny edge technique to detect text edges\n",
        "  edges = cv2.Canny(img_thresh, threshold1=170, threshold2=230) #The value of threshold can be changed to get different results\n",
        "  h, w = edges.shape\n",
        "  boxes = pytesseract.image_to_boxes(edges) \n",
        "  for b in boxes.splitlines():\n",
        "      b = b.split(' ')\n",
        "      edges = cv2.rectangle(edges, (int(b[1]), h - int(b[2])), (int(b[3]), h - int(b[4])), (0, 255, 255), 2)\n",
        "\n",
        "  cv2.imwrite('/content/gdrive/My Drive/CA3 Images/Class 3/Class3Cann' + str(x+1) + '.jpg', edges)"
      ],
      "execution_count": 72,
      "outputs": []
    },
    {
      "cell_type": "code",
      "metadata": {
        "id": "idIsTzKPYmr9"
      },
      "source": [
        "#Taking an image file and converting it into text form to compare with another text file.\n",
        "pytesseract.pytesseract.tesseract_cmd = r'/usr/bin/tesseract'\n",
        "text = str(((pytesseract.image_to_string(Image.open(\"/content/gdrive/My Drive/CA3 Images/Class 3/Class3Cann21\" + \".jpg\"), lang='eng')))) \n",
        "text = text.replace('-\\n', '')\t \n",
        " \n",
        "with open(\"/content/gdrive/My Drive/CA3 Images/Class 3/Class3Cann21.txt\", 'a') as writefile:\n",
        "  writefile.write(text + \"\\n\")"
      ],
      "execution_count": 73,
      "outputs": []
    },
    {
      "cell_type": "code",
      "metadata": {
        "colab": {
          "base_uri": "https://localhost:8080/"
        },
        "id": "65rJ2ZQFYm_z",
        "outputId": "8263ff51-9e84-4edc-f9f8-5d7063c1cfc1"
      },
      "source": [
        "from difflib import SequenceMatcher\n",
        "text1 = open(\"/content/gdrive/My Drive/CA3 Images/Class 3/Class3Cann21.txt\").read()\n",
        "text2 = open(\"/content/gdrive/My Drive/CA3 Images/Class 3/Class3Txt21.txt\").read()\n",
        "m = SequenceMatcher(None, text1, text2)\n",
        "m.ratio()"
      ],
      "execution_count": 74,
      "outputs": [
        {
          "output_type": "execute_result",
          "data": {
            "text/plain": [
              "0.00966183574879227"
            ]
          },
          "metadata": {
            "tags": []
          },
          "execution_count": 74
        }
      ]
    },
    {
      "cell_type": "markdown",
      "metadata": {
        "id": "as66YoPxbexK"
      },
      "source": [
        "###**TECHNIQUE 7 - EDGE DETECTION - LAPLACIAN**"
      ]
    },
    {
      "cell_type": "code",
      "metadata": {
        "id": "nDhhRTvybfqE"
      },
      "source": [
        "for x in range(24):\n",
        "  img3 = cv2.imread('/content/gdrive/My Drive/CA3 Images/Class 3/Class3ImgROI' + str(x+1) + '.jpg', cv2.IMREAD_COLOR) # Load an image\n",
        "  img_gb = cv2.GaussianBlur(img3, (0, 0), 5)\n",
        "  img_gray = cv2.cvtColor(img_gb, cv2.COLOR_BGR2GRAY)\n",
        "  img_lp = cv2.Laplacian(img_gray, cv2.CV_8U, -2)\n",
        "#abs_dst = cv2.convertScaleAbs(dst)\n",
        "\n",
        "  cv2.imwrite('/content/gdrive/My Drive/CA3 Images/Class 3/Class3LP' + str(x+1) + '.jpg', img_lp)"
      ],
      "execution_count": 75,
      "outputs": []
    },
    {
      "cell_type": "code",
      "metadata": {
        "id": "h03N32H-bf6F"
      },
      "source": [
        "#Taking an image file and converting it into text form to compare with another text file.\n",
        "pytesseract.pytesseract.tesseract_cmd = r'/usr/bin/tesseract'\n",
        "text = str(((pytesseract.image_to_string(Image.open(\"/content/gdrive/My Drive/CA3 Images/Class 3/Class3LP7\" + \".jpg\"), lang='eng')))) \n",
        "text = text.replace('-\\n', '')\t \n",
        " \n",
        "with open(\"/content/gdrive/My Drive/CA3 Images/Class 3/Class3LP7.txt\", 'a') as writefile:\n",
        "  writefile.write(text + \"\\n\")"
      ],
      "execution_count": 76,
      "outputs": []
    },
    {
      "cell_type": "code",
      "metadata": {
        "colab": {
          "base_uri": "https://localhost:8080/"
        },
        "id": "4lykwARWbgdX",
        "outputId": "b4e66635-7650-4cc4-d10a-4b8421065e94"
      },
      "source": [
        "from difflib import SequenceMatcher\n",
        "text1 = open(\"/content/gdrive/My Drive/CA3 Images/Class 3/Class3LP7.txt\").read()\n",
        "text2 = open(\"/content/gdrive/My Drive/CA3 Images/Class 3/Class3Txt7.txt\").read()\n",
        "m = SequenceMatcher(None, text1, text2)\n",
        "m.ratio()"
      ],
      "execution_count": 77,
      "outputs": [
        {
          "output_type": "execute_result",
          "data": {
            "text/plain": [
              "0.05895039539899353"
            ]
          },
          "metadata": {
            "tags": []
          },
          "execution_count": 77
        }
      ]
    },
    {
      "cell_type": "markdown",
      "metadata": {
        "id": "7l9uWsV8hqNP"
      },
      "source": [
        "##**CLASS 4**\n",
        "\n",
        "### This code block consists of 10 different images. So, the numbers should vary between 1-10 for text comparison."
      ]
    },
    {
      "cell_type": "code",
      "metadata": {
        "colab": {
          "base_uri": "https://localhost:8080/"
        },
        "id": "BVoZ29JdiDiB",
        "outputId": "01a3f08d-1451-4c60-8400-e751ca14c76a"
      },
      "source": [
        "from google.colab import drive\n",
        "drive.mount('/content/gdrive')\n",
        "\n",
        "for x in range(10):\n",
        "  PDF_file = (\"/content/gdrive/My Drive/CA3 Images/Class 4/Class4Pdf\" + str(x+1) + \".pdf\")\n",
        "  pages = convert_from_path(PDF_file, 500, single_file=True)\n",
        "  pages[0].save(\"/content/gdrive/My Drive/CA3 Images/Class 4/Class4Img\" + str(x+1), 'JPEG')"
      ],
      "execution_count": null,
      "outputs": [
        {
          "output_type": "stream",
          "text": [
            "Drive already mounted at /content/gdrive; to attempt to forcibly remount, call drive.mount(\"/content/gdrive\", force_remount=True).\n"
          ],
          "name": "stdout"
        }
      ]
    },
    {
      "cell_type": "code",
      "metadata": {
        "id": "Yp6r0urmiIDo"
      },
      "source": [
        "for x in range(10):\n",
        "  img4 = cv2.imread('/content/gdrive/My Drive/CA3 Images/Class 4/Class4Img' + str(x+1), cv2.IMREAD_UNCHANGED) \n",
        "\n",
        "  #Extracting ROI for Class 4\n",
        "  roi4 = img4[0:img4.shape[0]-2700,5200:img4.shape[1]-150]  # The coordinates has been changed to extract ROI\n",
        "\n",
        "  #Saving ROI for Class 4\n",
        "  cv2.imwrite('/content/gdrive/My Drive/CA3 Images/Class 4/Class4ImgROI' + str(x+1) + '.jpg', roi4)"
      ],
      "execution_count": 78,
      "outputs": []
    },
    {
      "cell_type": "markdown",
      "metadata": {
        "id": "PoYcAlxich1b"
      },
      "source": [
        "###**TECHNIQUE 1 - NO GRAYSCALING**"
      ]
    },
    {
      "cell_type": "code",
      "metadata": {
        "id": "Qdv215ukciop"
      },
      "source": [
        "for x in range(10):\n",
        "  img4_new = cv2.imread('/content/gdrive/My Drive/CA3 Images/Class 4/Class4ImgROI' + str(x+1) + '.jpg')\n",
        "\n",
        "  #Adding custom options\n",
        "  custom_config = r'--oem 3 --psm 6'\n",
        "\n",
        "  h, w, c = img4_new.shape\n",
        "  boxes = pytesseract.image_to_boxes(img4_new) \n",
        "  for b in boxes.splitlines():\n",
        "      b = b.split(' ')\n",
        "      img4_new = cv2.rectangle(img4_new, (int(b[1]), h - int(b[2])), (int(b[3]), h - int(b[4])), (255, 0, 255), 2) #OpenCV is in Blue, Green, Red format.\n",
        "\n",
        "  cv2.imwrite('/content/gdrive/My Drive/CA3 Images/Class 4/Class4NGB' + str(x+1) + '.jpg', img4_new)"
      ],
      "execution_count": 84,
      "outputs": []
    },
    {
      "cell_type": "code",
      "metadata": {
        "id": "1rAtpV7fci8g"
      },
      "source": [
        "#Taking an image file and converting it into text form to compare with another text file.\n",
        "pytesseract.pytesseract.tesseract_cmd = r'/usr/bin/tesseract'\n",
        "text = str(((pytesseract.image_to_string(Image.open(\"/content/gdrive/My Drive/CA3 Images/Class 4/Class4NGB4\" + \".jpg\"), lang='eng')))) \n",
        "text = text.replace('-\\n', '')\t \n",
        " \n",
        "with open(\"/content/gdrive/My Drive/CA3 Images/Class 4/Class4NGB4.txt\", 'a') as writefile:\n",
        "  writefile.write(text + \"\\n\")"
      ],
      "execution_count": 87,
      "outputs": []
    },
    {
      "cell_type": "code",
      "metadata": {
        "colab": {
          "base_uri": "https://localhost:8080/"
        },
        "id": "gDqHXCnWcjUO",
        "outputId": "3501c6b3-5689-40f2-a14a-93a65d9f42ee"
      },
      "source": [
        "from difflib import SequenceMatcher\n",
        "text1 = open(\"/content/gdrive/My Drive/CA3 Images/Class 4/Class4NGB4.txt\").read()\n",
        "text2 = open(\"/content/gdrive/My Drive/CA3 Images/Class 4/Class4Txt4.txt\").read()\n",
        "m = SequenceMatcher(None, text1, text2)\n",
        "m.ratio()"
      ],
      "execution_count": 88,
      "outputs": [
        {
          "output_type": "execute_result",
          "data": {
            "text/plain": [
              "0.04047619047619048"
            ]
          },
          "metadata": {
            "tags": []
          },
          "execution_count": 88
        }
      ]
    },
    {
      "cell_type": "markdown",
      "metadata": {
        "id": "FP9ktp_QfzT8"
      },
      "source": [
        "###**TECHNIQUE 2 - GRASCALING AND BINARIZATION**"
      ]
    },
    {
      "cell_type": "code",
      "metadata": {
        "id": "pF-bCD-1fznj"
      },
      "source": [
        "for x in range(10):\n",
        "  img4_new = cv2.imread('/content/gdrive/My Drive/CA3 Images/Class 4/Class4ImgROI' + str(x+1) + '.jpg')\n",
        "  img4grayscale_new = cv2.cvtColor(img4_new,cv2.COLOR_BGR2GRAY)\n",
        "  img4_thresh = cv2.adaptiveThreshold(img4grayscale_new,255,cv2.ADAPTIVE_THRESH_GAUSSIAN_C,cv2.THRESH_BINARY,11,4)\n",
        "\n",
        "  h, w = img4_thresh.shape\n",
        "  boxes = pytesseract.image_to_boxes(img4_thresh) \n",
        "  for b in boxes.splitlines():\n",
        "      b = b.split(' ')\n",
        "      img4_new = cv2.rectangle(img4_thresh, (int(b[1]), h - int(b[2])), (int(b[3]), h - int(b[4])), (255, 0, 0), 2) #OpenCV is in Blue, Green, Red format.\n",
        "\n",
        "  cv2.imwrite('/content/gdrive/My Drive/CA3 Images/Class 4/Class4Gray' + str(x+1) + '.jpg', img4_new)"
      ],
      "execution_count": 90,
      "outputs": []
    },
    {
      "cell_type": "code",
      "metadata": {
        "id": "ptpK9QkSfz1_"
      },
      "source": [
        "#Taking an image file and converting it into text form to compare with another text file.\n",
        "pytesseract.pytesseract.tesseract_cmd = r'/usr/bin/tesseract'\n",
        "text = str(((pytesseract.image_to_string(Image.open(\"/content/gdrive/My Drive/CA3 Images/Class 4/Class4Gray5\" + \".jpg\"), lang='eng')))) \n",
        "text = text.replace('-\\n', '')\t \n",
        " \n",
        "with open(\"/content/gdrive/My Drive/CA3 Images/Class 4/Class4Gray5.txt\", 'a') as writefile:\n",
        "  writefile.write(text + \"\\n\")"
      ],
      "execution_count": 92,
      "outputs": []
    },
    {
      "cell_type": "code",
      "metadata": {
        "colab": {
          "base_uri": "https://localhost:8080/"
        },
        "id": "ykTfvb_xf0Fs",
        "outputId": "4182932a-130e-4bd1-8625-f4924b2a7857"
      },
      "source": [
        "from difflib import SequenceMatcher\n",
        "text1 = open(\"/content/gdrive/My Drive/CA3 Images/Class 4/Class4Gray5.txt\").read()\n",
        "text2 = open(\"/content/gdrive/My Drive/CA3 Images/Class 4/Class4Txt5.txt\").read()\n",
        "m = SequenceMatcher(None, text1, text2)\n",
        "m.ratio()"
      ],
      "execution_count": 93,
      "outputs": [
        {
          "output_type": "execute_result",
          "data": {
            "text/plain": [
              "0.12879708383961117"
            ]
          },
          "metadata": {
            "tags": []
          },
          "execution_count": 93
        }
      ]
    },
    {
      "cell_type": "markdown",
      "metadata": {
        "id": "nUzxMsrVhq3k"
      },
      "source": [
        "###**TECHNIQUE 3 - EROSION**"
      ]
    },
    {
      "cell_type": "code",
      "metadata": {
        "id": "9rBwJ6AMhrN8"
      },
      "source": [
        "for x in range(10):\n",
        "  img4_new = cv2.imread('/content/gdrive/My Drive/CA3 Images/Class 4/Class4ImgROI' + str(x+1) + '.jpg', cv2.IMREAD_COLOR)\n",
        "  img4_gray = cv2.cvtColor(img4_new, cv2.COLOR_BGR2GRAY)\n",
        "  kernel = np.ones((1,2),np.uint8)\n",
        "  img_eros = cv2.erode(img4_gray,kernel,iterations = 2)\n",
        "  h, w = img_eros.shape\n",
        "  boxes = pytesseract.image_to_boxes(img_eros) \n",
        "  for b in boxes.splitlines():\n",
        "      b = b.split(' ')\n",
        "      img4_new = cv2.rectangle(img_eros, (int(b[1]), h - int(b[2])), (int(b[3]), h - int(b[4])), (120, 30, 0), 5)\n",
        "\n",
        "  cv2.imwrite('/content/gdrive/My Drive/CA3 Images/Class 4/Class4Eros' + str(x+1) +'.jpg', img4_new)"
      ],
      "execution_count": 135,
      "outputs": []
    },
    {
      "cell_type": "code",
      "metadata": {
        "id": "AaaxHI_RhrgK"
      },
      "source": [
        "#Taking an image file and converting it into text form to compare with another text file.\n",
        "pytesseract.pytesseract.tesseract_cmd = r'/usr/bin/tesseract'\n",
        "text = str(((pytesseract.image_to_string(Image.open(\"/content/gdrive/My Drive/CA3 Images/Class 4/Class4Eros10\" + \".jpg\"), lang='eng')))) \n",
        "text = text.replace('-\\n', '')\t \n",
        " \n",
        "with open(\"/content/gdrive/My Drive/CA3 Images/Class 4/Class4Eros10.txt\", 'a') as writefile:\n",
        "  writefile.write(text + \"\\n\")"
      ],
      "execution_count": 136,
      "outputs": []
    },
    {
      "cell_type": "code",
      "metadata": {
        "colab": {
          "base_uri": "https://localhost:8080/"
        },
        "id": "QFdH-hI8hr-h",
        "outputId": "1366f220-e625-418d-cbec-0f51d4193f91"
      },
      "source": [
        "from difflib import SequenceMatcher\n",
        "text1 = open(\"/content/gdrive/My Drive/CA3 Images/Class 4/Class4Eros10.txt\").read()\n",
        "text2 = open(\"/content/gdrive/My Drive/CA3 Images/Class 4/Class4Txt10.txt\").read()\n",
        "m = SequenceMatcher(None, text1, text2)\n",
        "m.ratio()"
      ],
      "execution_count": 137,
      "outputs": [
        {
          "output_type": "execute_result",
          "data": {
            "text/plain": [
              "0.04630650496141125"
            ]
          },
          "metadata": {
            "tags": []
          },
          "execution_count": 137
        }
      ]
    },
    {
      "cell_type": "markdown",
      "metadata": {
        "id": "MCAaoYxM501_"
      },
      "source": [
        "###**TECHNIQUE 4 - CONTOUR**"
      ]
    },
    {
      "cell_type": "code",
      "metadata": {
        "id": "0PBMYNly51MG"
      },
      "source": [
        "for x in range(10):\n",
        "  img4 = cv2.imread('/content/gdrive/My Drive/CA3 Images/Class 4/Class4ImgROI' + str(x+1) +'.jpg', cv2.IMREAD_COLOR)\n",
        "\n",
        "  img_gray = cv2.cvtColor(img4,cv2.COLOR_BGR2GRAY)\n",
        "  img_thresh = cv2.threshold(img_gray, 30, 255, cv2.THRESH_BINARY_INV + cv2.THRESH_OTSU)[1]\n",
        "\n",
        "  #Detect the contours on the binary image \n",
        "  contours, hierarchy = cv2.findContours(image=img_thresh, mode=cv2.RETR_TREE, method=cv2.CHAIN_APPROX_NONE)\n",
        "                                     \n",
        "  #Draw contours on the original image\n",
        "  img4_copy = img4.copy()\n",
        "  cv2.drawContours(image=img4_copy, contours=contours, contourIdx=-1, color=(120, 0, 255), thickness=3, lineType=cv2.LINE_AA)\n",
        "\n",
        "  h, w, c = img4_copy.shape\n",
        "  boxes = pytesseract.image_to_boxes(img4_copy) \n",
        "  for b in boxes.splitlines():\n",
        "      b = b.split(' ')\n",
        "      img4 = cv2.rectangle(img4_copy, (int(b[1]), h - int(b[2])), (int(b[3]), h - int(b[4])), (0, 255, 255), 2)\n",
        "\n",
        "  cv2.imwrite('/content/gdrive/My Drive/CA3 Images/Class 4/Class4Cont' + str(x+1) +'.jpg', img4)"
      ],
      "execution_count": 103,
      "outputs": []
    },
    {
      "cell_type": "code",
      "metadata": {
        "id": "Ywn0KFvR51ms"
      },
      "source": [
        "#Taking an image file and converting it into text form to compare with another text file.\n",
        "pytesseract.pytesseract.tesseract_cmd = r'/usr/bin/tesseract'\n",
        "text = str(((pytesseract.image_to_string(Image.open(\"/content/gdrive/My Drive/CA3 Images/Class 4/Class4Cont6\" + \".jpg\"), lang='eng')))) \n",
        "text = text.replace('-\\n', '')\t \n",
        " \n",
        "with open(\"/content/gdrive/My Drive/CA3 Images/Class 4/Class4Cont6.txt\", 'a') as writefile:\n",
        "  writefile.write(text + \"\\n\")"
      ],
      "execution_count": 104,
      "outputs": []
    },
    {
      "cell_type": "code",
      "metadata": {
        "colab": {
          "base_uri": "https://localhost:8080/"
        },
        "id": "Kom8D735514x",
        "outputId": "f99040ff-d08c-4a12-b4a9-0643de6b3ad3"
      },
      "source": [
        "from difflib import SequenceMatcher\n",
        "text1 = open(\"/content/gdrive/My Drive/CA3 Images/Class 4/Class4Cont6.txt\").read()\n",
        "text2 = open(\"/content/gdrive/My Drive/CA3 Images/Class 4/Class4Txt6.txt\").read()\n",
        "m = SequenceMatcher(None, text1, text2)\n",
        "m.ratio()"
      ],
      "execution_count": 105,
      "outputs": [
        {
          "output_type": "execute_result",
          "data": {
            "text/plain": [
              "0.0425531914893617"
            ]
          },
          "metadata": {
            "tags": []
          },
          "execution_count": 105
        }
      ]
    },
    {
      "cell_type": "markdown",
      "metadata": {
        "id": "8XBLw3eN6_6x"
      },
      "source": [
        "###**TECHNIQUE 5 - GAUSSIAN BLUR**"
      ]
    },
    {
      "cell_type": "code",
      "metadata": {
        "id": "uTSRy2yT7AVL"
      },
      "source": [
        "#GAUSSIAN BLUR\n",
        "for x in range(10):\n",
        "  img4 = cv2.imread('/content/gdrive/My Drive/CA3 Images/Class 4/Class4ImgROI' + str(x+1) + '.jpg')\n",
        "  img_gray = cv2.cvtColor(img4,cv2.COLOR_BGR2GRAY)\n",
        "  img_thresh = cv2.threshold(img_gray, 50, 205, cv2.THRESH_BINARY_INV + cv2.THRESH_OTSU)[1]\n",
        "  img4 = cv2.GaussianBlur(img_thresh, (9, 7), 3)     #Remove the noise in image\n",
        "  h, w, c = img3.shape\n",
        "  boxes = pytesseract.image_to_boxes(img4) \n",
        "  for b in boxes.splitlines():\n",
        "      b = b.split(' ')\n",
        "      img4 = cv2.rectangle(img4, (int(b[1]), h - int(b[2])), (int(b[3]), h - int(b[4])), (255, 0, 0), 2)\n",
        "  cv2.imwrite('/content/gdrive/My Drive/CA3 Images/Class 4/Class4Gaus' + str(x+1) + '.jpg', img4)"
      ],
      "execution_count": 107,
      "outputs": []
    },
    {
      "cell_type": "code",
      "metadata": {
        "id": "HRYGpbQo7AnE"
      },
      "source": [
        "#Taking an image file and converting it into text form to compare with another text file.\n",
        "pytesseract.pytesseract.tesseract_cmd = r'/usr/bin/tesseract'\n",
        "text = str(((pytesseract.image_to_string(Image.open(\"/content/gdrive/My Drive/CA3 Images/Class 4/Class4Gaus8\" + \".jpg\"), lang='eng')))) \n",
        "text = text.replace('-\\n', '')\t \n",
        " \n",
        "with open(\"/content/gdrive/My Drive/CA3 Images/Class 4/Class4Gaus8.txt\", 'a') as writefile:\n",
        "  writefile.write(text + \"\\n\")"
      ],
      "execution_count": 108,
      "outputs": []
    },
    {
      "cell_type": "code",
      "metadata": {
        "colab": {
          "base_uri": "https://localhost:8080/"
        },
        "id": "e1u-J3Kh7BM8",
        "outputId": "cc9ca70e-46ef-40c3-ec21-a66abb7fb837"
      },
      "source": [
        "from difflib import SequenceMatcher\n",
        "text1 = open(\"/content/gdrive/My Drive/CA3 Images/Class 4/Class4Gaus8.txt\").read()\n",
        "text2 = open(\"/content/gdrive/My Drive/CA3 Images/Class 4/Class4Txt8.txt\").read()\n",
        "m = SequenceMatcher(None, text1, text2)\n",
        "m.ratio()"
      ],
      "execution_count": 109,
      "outputs": [
        {
          "output_type": "execute_result",
          "data": {
            "text/plain": [
              "0.0903954802259887"
            ]
          },
          "metadata": {
            "tags": []
          },
          "execution_count": 109
        }
      ]
    },
    {
      "cell_type": "markdown",
      "metadata": {
        "id": "EaZTqUPV79sq"
      },
      "source": [
        "###**TECHNIQUE 6 - EDGE DETECTION - CANNY**"
      ]
    },
    {
      "cell_type": "code",
      "metadata": {
        "id": "jHE7GX5N7-DA"
      },
      "source": [
        "#Edge Detection\n",
        "for x in range(10):\n",
        "  img4 = cv2.imread('/content/gdrive/My Drive/CA3 Images/Class 4/Class4ImgROI' + str(x+1) + '.jpg')\n",
        "  img_gray = cv2.cvtColor(img4, cv2.COLOR_BGR2GRAY)\n",
        "  img_thresh = cv2.threshold(img_gray, 10, 205, cv2.THRESH_BINARY_INV + cv2.THRESH_OTSU)[1]\n",
        "\n",
        "  #Perform the canny edge technique to detect text edges\n",
        "  edges = cv2.Canny(img_thresh, threshold1=110, threshold2=200) #The value of threshold can be changed to get different results\n",
        "  h, w = edges.shape\n",
        "  boxes = pytesseract.image_to_boxes(edges) \n",
        "  for b in boxes.splitlines():\n",
        "      b = b.split(' ')\n",
        "      edges = cv2.rectangle(edges, (int(b[1]), h - int(b[2])), (int(b[3]), h - int(b[4])), (0, 255, 255), 2)\n",
        "\n",
        "  cv2.imwrite('/content/gdrive/My Drive/CA3 Images/Class 4/Class4Cann' + str(x+1) + '.jpg', edges)"
      ],
      "execution_count": 110,
      "outputs": []
    },
    {
      "cell_type": "code",
      "metadata": {
        "id": "bhVH96gm7-lh"
      },
      "source": [
        "#Taking an image file and converting it into text form to compare with another text file.\n",
        "pytesseract.pytesseract.tesseract_cmd = r'/usr/bin/tesseract'\n",
        "text = str(((pytesseract.image_to_string(Image.open(\"/content/gdrive/My Drive/CA3 Images/Class 4/Class4Cann4\" + \".jpg\"), lang='eng')))) \n",
        "text = text.replace('-\\n', '')\t \n",
        " \n",
        "with open(\"/content/gdrive/My Drive/CA3 Images/Class 4/Class4Cann4.txt\", 'a') as writefile:\n",
        "  writefile.write(text + \"\\n\")"
      ],
      "execution_count": 111,
      "outputs": []
    },
    {
      "cell_type": "code",
      "metadata": {
        "colab": {
          "base_uri": "https://localhost:8080/"
        },
        "id": "cXkE1xth7-5o",
        "outputId": "5e9f7888-ae98-4e1a-88b4-77c1c13d7efd"
      },
      "source": [
        "from difflib import SequenceMatcher\n",
        "text1 = open(\"/content/gdrive/My Drive/CA3 Images/Class 4/Class4Cann4.txt\").read()\n",
        "text2 = open(\"/content/gdrive/My Drive/CA3 Images/Class 4/Class4Txt4.txt\").read()\n",
        "m = SequenceMatcher(None, text1, text2)\n",
        "m.ratio()"
      ],
      "execution_count": 112,
      "outputs": [
        {
          "output_type": "execute_result",
          "data": {
            "text/plain": [
              "0.010619469026548672"
            ]
          },
          "metadata": {
            "tags": []
          },
          "execution_count": 112
        }
      ]
    },
    {
      "cell_type": "markdown",
      "metadata": {
        "id": "o8_Cul508lGe"
      },
      "source": [
        "###**TECHNIQUE 7 - EDGE - LAPLACIAN**"
      ]
    },
    {
      "cell_type": "code",
      "metadata": {
        "id": "je80XWNs8ls_"
      },
      "source": [
        "for x in range(10):\n",
        "  img4 = cv2.imread('/content/gdrive/My Drive/CA3 Images/Class 4/Class4ImgROI' + str(x+1) + '.jpg', cv2.IMREAD_COLOR) # Load an image\n",
        "  img_gb = cv2.GaussianBlur(img4, (3, 3), 100)\n",
        "  img_gray = cv2.cvtColor(img_gb, cv2.COLOR_BGR2GRAY)\n",
        "  img_lp = cv2.Laplacian(img_gray, cv2.CV_8U, 3)\n",
        "\n",
        "  cv2.imwrite('/content/gdrive/My Drive/CA3 Images/Class 4/Class4LP' + str(x+1) + '.jpg', img_lp)"
      ],
      "execution_count": 124,
      "outputs": []
    },
    {
      "cell_type": "code",
      "metadata": {
        "id": "dYnoR9eI8mJA"
      },
      "source": [
        "#Taking an image file and converting it into text form to compare with another text file.\n",
        "pytesseract.pytesseract.tesseract_cmd = r'/usr/bin/tesseract'\n",
        "text = str(((pytesseract.image_to_string(Image.open(\"/content/gdrive/My Drive/CA3 Images/Class 4/Class4LP1\" + \".jpg\"), lang='eng')))) \n",
        "text = text.replace('-\\n', '')\t \n",
        " \n",
        "with open(\"/content/gdrive/My Drive/CA3 Images/Class 4/Class4LP1.txt\", 'a') as writefile:\n",
        "  writefile.write(text + \"\\n\")"
      ],
      "execution_count": 125,
      "outputs": []
    },
    {
      "cell_type": "code",
      "metadata": {
        "colab": {
          "base_uri": "https://localhost:8080/"
        },
        "id": "Kay6nQXD8mv2",
        "outputId": "6c8510a6-266b-4dce-dc24-258fc125f21b"
      },
      "source": [
        "from difflib import SequenceMatcher\n",
        "text1 = open(\"/content/gdrive/My Drive/CA3 Images/Class 4/Class4LP1.txt\").read()\n",
        "text2 = open(\"/content/gdrive/My Drive/CA3 Images/Class 4/Class4Txt1.txt\").read()\n",
        "m = SequenceMatcher(None, text1, text2)\n",
        "m.ratio()"
      ],
      "execution_count": 126,
      "outputs": [
        {
          "output_type": "execute_result",
          "data": {
            "text/plain": [
              "0.005689001264222503"
            ]
          },
          "metadata": {
            "tags": []
          },
          "execution_count": 126
        }
      ]
    }
  ]
}